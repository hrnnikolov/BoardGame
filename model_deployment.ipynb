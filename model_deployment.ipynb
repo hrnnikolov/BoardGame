{
  "nbformat": 4,
  "nbformat_minor": 0,
  "metadata": {
    "colab": {
      "provenance": [],
      "gpuType": "T4",
      "authorship_tag": "ABX9TyNtv1dkcNObeiTw4thS4hWH",
      "include_colab_link": true
    },
    "kernelspec": {
      "name": "python3",
      "display_name": "Python 3"
    },
    "language_info": {
      "name": "python"
    },
    "accelerator": "GPU",
    "widgets": {
      "application/vnd.jupyter.widget-state+json": {
        "fbcd47f5e64e41f9b14a2719ec1b5ad9": {
          "model_module": "@jupyter-widgets/controls",
          "model_name": "HBoxModel",
          "model_module_version": "1.5.0",
          "state": {
            "_dom_classes": [],
            "_model_module": "@jupyter-widgets/controls",
            "_model_module_version": "1.5.0",
            "_model_name": "HBoxModel",
            "_view_count": null,
            "_view_module": "@jupyter-widgets/controls",
            "_view_module_version": "1.5.0",
            "_view_name": "HBoxView",
            "box_style": "",
            "children": [
              "IPY_MODEL_6ca813238f37466aa8946cd06412fcaf",
              "IPY_MODEL_b9d4e6b9428546eb8873da3743ba39cf",
              "IPY_MODEL_1ee143506fe84b31abefb1c13ba87433"
            ],
            "layout": "IPY_MODEL_cdd7220c82a043528d007d9a1fc65d59"
          }
        },
        "6ca813238f37466aa8946cd06412fcaf": {
          "model_module": "@jupyter-widgets/controls",
          "model_name": "HTMLModel",
          "model_module_version": "1.5.0",
          "state": {
            "_dom_classes": [],
            "_model_module": "@jupyter-widgets/controls",
            "_model_module_version": "1.5.0",
            "_model_name": "HTMLModel",
            "_view_count": null,
            "_view_module": "@jupyter-widgets/controls",
            "_view_module_version": "1.5.0",
            "_view_name": "HTMLView",
            "description": "",
            "description_tooltip": null,
            "layout": "IPY_MODEL_96e3ed120d0443798603cc211118d35c",
            "placeholder": "​",
            "style": "IPY_MODEL_11ab4646fb774431a4c9d17777f8d0f3",
            "value": "100%"
          }
        },
        "b9d4e6b9428546eb8873da3743ba39cf": {
          "model_module": "@jupyter-widgets/controls",
          "model_name": "FloatProgressModel",
          "model_module_version": "1.5.0",
          "state": {
            "_dom_classes": [],
            "_model_module": "@jupyter-widgets/controls",
            "_model_module_version": "1.5.0",
            "_model_name": "FloatProgressModel",
            "_view_count": null,
            "_view_module": "@jupyter-widgets/controls",
            "_view_module_version": "1.5.0",
            "_view_name": "ProgressView",
            "bar_style": "success",
            "description": "",
            "description_tooltip": null,
            "layout": "IPY_MODEL_b6e1d3bb2f224a35a8dfdc3ac79c0a48",
            "max": 10,
            "min": 0,
            "orientation": "horizontal",
            "style": "IPY_MODEL_be385b4d7fe242879de6c53d8d578674",
            "value": 10
          }
        },
        "1ee143506fe84b31abefb1c13ba87433": {
          "model_module": "@jupyter-widgets/controls",
          "model_name": "HTMLModel",
          "model_module_version": "1.5.0",
          "state": {
            "_dom_classes": [],
            "_model_module": "@jupyter-widgets/controls",
            "_model_module_version": "1.5.0",
            "_model_name": "HTMLModel",
            "_view_count": null,
            "_view_module": "@jupyter-widgets/controls",
            "_view_module_version": "1.5.0",
            "_view_name": "HTMLView",
            "description": "",
            "description_tooltip": null,
            "layout": "IPY_MODEL_1c5ccbb32ef24979ba19149900ca643c",
            "placeholder": "​",
            "style": "IPY_MODEL_31f6061268ad4190bc8fd0d2196b7793",
            "value": " 10/10 [01:03&lt;00:00,  5.87s/it]"
          }
        },
        "cdd7220c82a043528d007d9a1fc65d59": {
          "model_module": "@jupyter-widgets/base",
          "model_name": "LayoutModel",
          "model_module_version": "1.2.0",
          "state": {
            "_model_module": "@jupyter-widgets/base",
            "_model_module_version": "1.2.0",
            "_model_name": "LayoutModel",
            "_view_count": null,
            "_view_module": "@jupyter-widgets/base",
            "_view_module_version": "1.2.0",
            "_view_name": "LayoutView",
            "align_content": null,
            "align_items": null,
            "align_self": null,
            "border": null,
            "bottom": null,
            "display": null,
            "flex": null,
            "flex_flow": null,
            "grid_area": null,
            "grid_auto_columns": null,
            "grid_auto_flow": null,
            "grid_auto_rows": null,
            "grid_column": null,
            "grid_gap": null,
            "grid_row": null,
            "grid_template_areas": null,
            "grid_template_columns": null,
            "grid_template_rows": null,
            "height": null,
            "justify_content": null,
            "justify_items": null,
            "left": null,
            "margin": null,
            "max_height": null,
            "max_width": null,
            "min_height": null,
            "min_width": null,
            "object_fit": null,
            "object_position": null,
            "order": null,
            "overflow": null,
            "overflow_x": null,
            "overflow_y": null,
            "padding": null,
            "right": null,
            "top": null,
            "visibility": null,
            "width": null
          }
        },
        "96e3ed120d0443798603cc211118d35c": {
          "model_module": "@jupyter-widgets/base",
          "model_name": "LayoutModel",
          "model_module_version": "1.2.0",
          "state": {
            "_model_module": "@jupyter-widgets/base",
            "_model_module_version": "1.2.0",
            "_model_name": "LayoutModel",
            "_view_count": null,
            "_view_module": "@jupyter-widgets/base",
            "_view_module_version": "1.2.0",
            "_view_name": "LayoutView",
            "align_content": null,
            "align_items": null,
            "align_self": null,
            "border": null,
            "bottom": null,
            "display": null,
            "flex": null,
            "flex_flow": null,
            "grid_area": null,
            "grid_auto_columns": null,
            "grid_auto_flow": null,
            "grid_auto_rows": null,
            "grid_column": null,
            "grid_gap": null,
            "grid_row": null,
            "grid_template_areas": null,
            "grid_template_columns": null,
            "grid_template_rows": null,
            "height": null,
            "justify_content": null,
            "justify_items": null,
            "left": null,
            "margin": null,
            "max_height": null,
            "max_width": null,
            "min_height": null,
            "min_width": null,
            "object_fit": null,
            "object_position": null,
            "order": null,
            "overflow": null,
            "overflow_x": null,
            "overflow_y": null,
            "padding": null,
            "right": null,
            "top": null,
            "visibility": null,
            "width": null
          }
        },
        "11ab4646fb774431a4c9d17777f8d0f3": {
          "model_module": "@jupyter-widgets/controls",
          "model_name": "DescriptionStyleModel",
          "model_module_version": "1.5.0",
          "state": {
            "_model_module": "@jupyter-widgets/controls",
            "_model_module_version": "1.5.0",
            "_model_name": "DescriptionStyleModel",
            "_view_count": null,
            "_view_module": "@jupyter-widgets/base",
            "_view_module_version": "1.2.0",
            "_view_name": "StyleView",
            "description_width": ""
          }
        },
        "b6e1d3bb2f224a35a8dfdc3ac79c0a48": {
          "model_module": "@jupyter-widgets/base",
          "model_name": "LayoutModel",
          "model_module_version": "1.2.0",
          "state": {
            "_model_module": "@jupyter-widgets/base",
            "_model_module_version": "1.2.0",
            "_model_name": "LayoutModel",
            "_view_count": null,
            "_view_module": "@jupyter-widgets/base",
            "_view_module_version": "1.2.0",
            "_view_name": "LayoutView",
            "align_content": null,
            "align_items": null,
            "align_self": null,
            "border": null,
            "bottom": null,
            "display": null,
            "flex": null,
            "flex_flow": null,
            "grid_area": null,
            "grid_auto_columns": null,
            "grid_auto_flow": null,
            "grid_auto_rows": null,
            "grid_column": null,
            "grid_gap": null,
            "grid_row": null,
            "grid_template_areas": null,
            "grid_template_columns": null,
            "grid_template_rows": null,
            "height": null,
            "justify_content": null,
            "justify_items": null,
            "left": null,
            "margin": null,
            "max_height": null,
            "max_width": null,
            "min_height": null,
            "min_width": null,
            "object_fit": null,
            "object_position": null,
            "order": null,
            "overflow": null,
            "overflow_x": null,
            "overflow_y": null,
            "padding": null,
            "right": null,
            "top": null,
            "visibility": null,
            "width": null
          }
        },
        "be385b4d7fe242879de6c53d8d578674": {
          "model_module": "@jupyter-widgets/controls",
          "model_name": "ProgressStyleModel",
          "model_module_version": "1.5.0",
          "state": {
            "_model_module": "@jupyter-widgets/controls",
            "_model_module_version": "1.5.0",
            "_model_name": "ProgressStyleModel",
            "_view_count": null,
            "_view_module": "@jupyter-widgets/base",
            "_view_module_version": "1.2.0",
            "_view_name": "StyleView",
            "bar_color": null,
            "description_width": ""
          }
        },
        "1c5ccbb32ef24979ba19149900ca643c": {
          "model_module": "@jupyter-widgets/base",
          "model_name": "LayoutModel",
          "model_module_version": "1.2.0",
          "state": {
            "_model_module": "@jupyter-widgets/base",
            "_model_module_version": "1.2.0",
            "_model_name": "LayoutModel",
            "_view_count": null,
            "_view_module": "@jupyter-widgets/base",
            "_view_module_version": "1.2.0",
            "_view_name": "LayoutView",
            "align_content": null,
            "align_items": null,
            "align_self": null,
            "border": null,
            "bottom": null,
            "display": null,
            "flex": null,
            "flex_flow": null,
            "grid_area": null,
            "grid_auto_columns": null,
            "grid_auto_flow": null,
            "grid_auto_rows": null,
            "grid_column": null,
            "grid_gap": null,
            "grid_row": null,
            "grid_template_areas": null,
            "grid_template_columns": null,
            "grid_template_rows": null,
            "height": null,
            "justify_content": null,
            "justify_items": null,
            "left": null,
            "margin": null,
            "max_height": null,
            "max_width": null,
            "min_height": null,
            "min_width": null,
            "object_fit": null,
            "object_position": null,
            "order": null,
            "overflow": null,
            "overflow_x": null,
            "overflow_y": null,
            "padding": null,
            "right": null,
            "top": null,
            "visibility": null,
            "width": null
          }
        },
        "31f6061268ad4190bc8fd0d2196b7793": {
          "model_module": "@jupyter-widgets/controls",
          "model_name": "DescriptionStyleModel",
          "model_module_version": "1.5.0",
          "state": {
            "_model_module": "@jupyter-widgets/controls",
            "_model_module_version": "1.5.0",
            "_model_name": "DescriptionStyleModel",
            "_view_count": null,
            "_view_module": "@jupyter-widgets/base",
            "_view_module_version": "1.2.0",
            "_view_name": "StyleView",
            "description_width": ""
          }
        },
        "558090f206e54511b58471ba122991be": {
          "model_module": "@jupyter-widgets/controls",
          "model_name": "HBoxModel",
          "model_module_version": "1.5.0",
          "state": {
            "_dom_classes": [],
            "_model_module": "@jupyter-widgets/controls",
            "_model_module_version": "1.5.0",
            "_model_name": "HBoxModel",
            "_view_count": null,
            "_view_module": "@jupyter-widgets/controls",
            "_view_module_version": "1.5.0",
            "_view_name": "HBoxView",
            "box_style": "",
            "children": [
              "IPY_MODEL_d740dfc7aeb341f9afd403bcabaa4f39",
              "IPY_MODEL_5bbfe61b305445298a1ae0fab8e1719b",
              "IPY_MODEL_e104d982cbe2453ebd2a525c724e9189"
            ],
            "layout": "IPY_MODEL_7bb14f41e73f4293a04a1ee65d8147f3"
          }
        },
        "d740dfc7aeb341f9afd403bcabaa4f39": {
          "model_module": "@jupyter-widgets/controls",
          "model_name": "HTMLModel",
          "model_module_version": "1.5.0",
          "state": {
            "_dom_classes": [],
            "_model_module": "@jupyter-widgets/controls",
            "_model_module_version": "1.5.0",
            "_model_name": "HTMLModel",
            "_view_count": null,
            "_view_module": "@jupyter-widgets/controls",
            "_view_module_version": "1.5.0",
            "_view_name": "HTMLView",
            "description": "",
            "description_tooltip": null,
            "layout": "IPY_MODEL_1118c1af36e148ec8438982bb8a75b05",
            "placeholder": "​",
            "style": "IPY_MODEL_9c6446efed6f4a99adee05969f68ffef",
            "value": "100%"
          }
        },
        "5bbfe61b305445298a1ae0fab8e1719b": {
          "model_module": "@jupyter-widgets/controls",
          "model_name": "FloatProgressModel",
          "model_module_version": "1.5.0",
          "state": {
            "_dom_classes": [],
            "_model_module": "@jupyter-widgets/controls",
            "_model_module_version": "1.5.0",
            "_model_name": "FloatProgressModel",
            "_view_count": null,
            "_view_module": "@jupyter-widgets/controls",
            "_view_module_version": "1.5.0",
            "_view_name": "ProgressView",
            "bar_style": "success",
            "description": "",
            "description_tooltip": null,
            "layout": "IPY_MODEL_ca62e600494e410998f9f081a90e70a7",
            "max": 10,
            "min": 0,
            "orientation": "horizontal",
            "style": "IPY_MODEL_d0a82239d8fd4a75bd00d942757582c9",
            "value": 10
          }
        },
        "e104d982cbe2453ebd2a525c724e9189": {
          "model_module": "@jupyter-widgets/controls",
          "model_name": "HTMLModel",
          "model_module_version": "1.5.0",
          "state": {
            "_dom_classes": [],
            "_model_module": "@jupyter-widgets/controls",
            "_model_module_version": "1.5.0",
            "_model_name": "HTMLModel",
            "_view_count": null,
            "_view_module": "@jupyter-widgets/controls",
            "_view_module_version": "1.5.0",
            "_view_name": "HTMLView",
            "description": "",
            "description_tooltip": null,
            "layout": "IPY_MODEL_d6543a80a5a647799cff468c483a7268",
            "placeholder": "​",
            "style": "IPY_MODEL_550661d9afce43c0ba21235cb12ce395",
            "value": " 10/10 [01:31&lt;00:00,  9.05s/it]"
          }
        },
        "7bb14f41e73f4293a04a1ee65d8147f3": {
          "model_module": "@jupyter-widgets/base",
          "model_name": "LayoutModel",
          "model_module_version": "1.2.0",
          "state": {
            "_model_module": "@jupyter-widgets/base",
            "_model_module_version": "1.2.0",
            "_model_name": "LayoutModel",
            "_view_count": null,
            "_view_module": "@jupyter-widgets/base",
            "_view_module_version": "1.2.0",
            "_view_name": "LayoutView",
            "align_content": null,
            "align_items": null,
            "align_self": null,
            "border": null,
            "bottom": null,
            "display": null,
            "flex": null,
            "flex_flow": null,
            "grid_area": null,
            "grid_auto_columns": null,
            "grid_auto_flow": null,
            "grid_auto_rows": null,
            "grid_column": null,
            "grid_gap": null,
            "grid_row": null,
            "grid_template_areas": null,
            "grid_template_columns": null,
            "grid_template_rows": null,
            "height": null,
            "justify_content": null,
            "justify_items": null,
            "left": null,
            "margin": null,
            "max_height": null,
            "max_width": null,
            "min_height": null,
            "min_width": null,
            "object_fit": null,
            "object_position": null,
            "order": null,
            "overflow": null,
            "overflow_x": null,
            "overflow_y": null,
            "padding": null,
            "right": null,
            "top": null,
            "visibility": null,
            "width": null
          }
        },
        "1118c1af36e148ec8438982bb8a75b05": {
          "model_module": "@jupyter-widgets/base",
          "model_name": "LayoutModel",
          "model_module_version": "1.2.0",
          "state": {
            "_model_module": "@jupyter-widgets/base",
            "_model_module_version": "1.2.0",
            "_model_name": "LayoutModel",
            "_view_count": null,
            "_view_module": "@jupyter-widgets/base",
            "_view_module_version": "1.2.0",
            "_view_name": "LayoutView",
            "align_content": null,
            "align_items": null,
            "align_self": null,
            "border": null,
            "bottom": null,
            "display": null,
            "flex": null,
            "flex_flow": null,
            "grid_area": null,
            "grid_auto_columns": null,
            "grid_auto_flow": null,
            "grid_auto_rows": null,
            "grid_column": null,
            "grid_gap": null,
            "grid_row": null,
            "grid_template_areas": null,
            "grid_template_columns": null,
            "grid_template_rows": null,
            "height": null,
            "justify_content": null,
            "justify_items": null,
            "left": null,
            "margin": null,
            "max_height": null,
            "max_width": null,
            "min_height": null,
            "min_width": null,
            "object_fit": null,
            "object_position": null,
            "order": null,
            "overflow": null,
            "overflow_x": null,
            "overflow_y": null,
            "padding": null,
            "right": null,
            "top": null,
            "visibility": null,
            "width": null
          }
        },
        "9c6446efed6f4a99adee05969f68ffef": {
          "model_module": "@jupyter-widgets/controls",
          "model_name": "DescriptionStyleModel",
          "model_module_version": "1.5.0",
          "state": {
            "_model_module": "@jupyter-widgets/controls",
            "_model_module_version": "1.5.0",
            "_model_name": "DescriptionStyleModel",
            "_view_count": null,
            "_view_module": "@jupyter-widgets/base",
            "_view_module_version": "1.2.0",
            "_view_name": "StyleView",
            "description_width": ""
          }
        },
        "ca62e600494e410998f9f081a90e70a7": {
          "model_module": "@jupyter-widgets/base",
          "model_name": "LayoutModel",
          "model_module_version": "1.2.0",
          "state": {
            "_model_module": "@jupyter-widgets/base",
            "_model_module_version": "1.2.0",
            "_model_name": "LayoutModel",
            "_view_count": null,
            "_view_module": "@jupyter-widgets/base",
            "_view_module_version": "1.2.0",
            "_view_name": "LayoutView",
            "align_content": null,
            "align_items": null,
            "align_self": null,
            "border": null,
            "bottom": null,
            "display": null,
            "flex": null,
            "flex_flow": null,
            "grid_area": null,
            "grid_auto_columns": null,
            "grid_auto_flow": null,
            "grid_auto_rows": null,
            "grid_column": null,
            "grid_gap": null,
            "grid_row": null,
            "grid_template_areas": null,
            "grid_template_columns": null,
            "grid_template_rows": null,
            "height": null,
            "justify_content": null,
            "justify_items": null,
            "left": null,
            "margin": null,
            "max_height": null,
            "max_width": null,
            "min_height": null,
            "min_width": null,
            "object_fit": null,
            "object_position": null,
            "order": null,
            "overflow": null,
            "overflow_x": null,
            "overflow_y": null,
            "padding": null,
            "right": null,
            "top": null,
            "visibility": null,
            "width": null
          }
        },
        "d0a82239d8fd4a75bd00d942757582c9": {
          "model_module": "@jupyter-widgets/controls",
          "model_name": "ProgressStyleModel",
          "model_module_version": "1.5.0",
          "state": {
            "_model_module": "@jupyter-widgets/controls",
            "_model_module_version": "1.5.0",
            "_model_name": "ProgressStyleModel",
            "_view_count": null,
            "_view_module": "@jupyter-widgets/base",
            "_view_module_version": "1.2.0",
            "_view_name": "StyleView",
            "bar_color": null,
            "description_width": ""
          }
        },
        "d6543a80a5a647799cff468c483a7268": {
          "model_module": "@jupyter-widgets/base",
          "model_name": "LayoutModel",
          "model_module_version": "1.2.0",
          "state": {
            "_model_module": "@jupyter-widgets/base",
            "_model_module_version": "1.2.0",
            "_model_name": "LayoutModel",
            "_view_count": null,
            "_view_module": "@jupyter-widgets/base",
            "_view_module_version": "1.2.0",
            "_view_name": "LayoutView",
            "align_content": null,
            "align_items": null,
            "align_self": null,
            "border": null,
            "bottom": null,
            "display": null,
            "flex": null,
            "flex_flow": null,
            "grid_area": null,
            "grid_auto_columns": null,
            "grid_auto_flow": null,
            "grid_auto_rows": null,
            "grid_column": null,
            "grid_gap": null,
            "grid_row": null,
            "grid_template_areas": null,
            "grid_template_columns": null,
            "grid_template_rows": null,
            "height": null,
            "justify_content": null,
            "justify_items": null,
            "left": null,
            "margin": null,
            "max_height": null,
            "max_width": null,
            "min_height": null,
            "min_width": null,
            "object_fit": null,
            "object_position": null,
            "order": null,
            "overflow": null,
            "overflow_x": null,
            "overflow_y": null,
            "padding": null,
            "right": null,
            "top": null,
            "visibility": null,
            "width": null
          }
        },
        "550661d9afce43c0ba21235cb12ce395": {
          "model_module": "@jupyter-widgets/controls",
          "model_name": "DescriptionStyleModel",
          "model_module_version": "1.5.0",
          "state": {
            "_model_module": "@jupyter-widgets/controls",
            "_model_module_version": "1.5.0",
            "_model_name": "DescriptionStyleModel",
            "_view_count": null,
            "_view_module": "@jupyter-widgets/base",
            "_view_module_version": "1.2.0",
            "_view_name": "StyleView",
            "description_width": ""
          }
        }
      }
    }
  },
  "cells": [
    {
      "cell_type": "markdown",
      "metadata": {
        "id": "view-in-github",
        "colab_type": "text"
      },
      "source": [
        "<a href=\"https://colab.research.google.com/github/hrnnikolov/BoardGame/blob/main/model_deployment.ipynb\" target=\"_parent\"><img src=\"https://colab.research.google.com/assets/colab-badge.svg\" alt=\"Open In Colab\"/></a>"
      ]
    },
    {
      "cell_type": "markdown",
      "source": [
        "# Setup and Getting Data\n",
        "\n"
      ],
      "metadata": {
        "id": "1ciR7X2o8CEv"
      }
    },
    {
      "cell_type": "code",
      "execution_count": 1,
      "metadata": {
        "colab": {
          "base_uri": "https://localhost:8080/"
        },
        "id": "xovQqgRxnuvs",
        "outputId": "7b00c10a-2496-4ec7-9ca8-8558c7fccba6"
      },
      "outputs": [
        {
          "output_type": "stream",
          "name": "stdout",
          "text": [
            "[INFO] torch/torchvision versions not as required, installing nightly versions.\n",
            "Looking in indexes: https://pypi.org/simple, https://download.pytorch.org/whl/cu113\n",
            "Requirement already satisfied: torch in /usr/local/lib/python3.10/dist-packages (2.2.2)\n",
            "Requirement already satisfied: torchvision in /usr/local/lib/python3.10/dist-packages (0.17.2)\n",
            "Requirement already satisfied: torchaudio in /usr/local/lib/python3.10/dist-packages (2.2.2)\n",
            "Requirement already satisfied: filelock in /usr/local/lib/python3.10/dist-packages (from torch) (3.13.3)\n",
            "Requirement already satisfied: typing-extensions>=4.8.0 in /usr/local/lib/python3.10/dist-packages (from torch) (4.10.0)\n",
            "Requirement already satisfied: sympy in /usr/local/lib/python3.10/dist-packages (from torch) (1.12)\n",
            "Requirement already satisfied: networkx in /usr/local/lib/python3.10/dist-packages (from torch) (3.2.1)\n",
            "Requirement already satisfied: jinja2 in /usr/local/lib/python3.10/dist-packages (from torch) (3.1.3)\n",
            "Requirement already satisfied: fsspec in /usr/local/lib/python3.10/dist-packages (from torch) (2023.6.0)\n",
            "Requirement already satisfied: nvidia-cuda-nvrtc-cu12==12.1.105 in /usr/local/lib/python3.10/dist-packages (from torch) (12.1.105)\n",
            "Requirement already satisfied: nvidia-cuda-runtime-cu12==12.1.105 in /usr/local/lib/python3.10/dist-packages (from torch) (12.1.105)\n",
            "Requirement already satisfied: nvidia-cuda-cupti-cu12==12.1.105 in /usr/local/lib/python3.10/dist-packages (from torch) (12.1.105)\n",
            "Requirement already satisfied: nvidia-cudnn-cu12==8.9.2.26 in /usr/local/lib/python3.10/dist-packages (from torch) (8.9.2.26)\n",
            "Requirement already satisfied: nvidia-cublas-cu12==12.1.3.1 in /usr/local/lib/python3.10/dist-packages (from torch) (12.1.3.1)\n",
            "Requirement already satisfied: nvidia-cufft-cu12==11.0.2.54 in /usr/local/lib/python3.10/dist-packages (from torch) (11.0.2.54)\n",
            "Requirement already satisfied: nvidia-curand-cu12==10.3.2.106 in /usr/local/lib/python3.10/dist-packages (from torch) (10.3.2.106)\n",
            "Requirement already satisfied: nvidia-cusolver-cu12==11.4.5.107 in /usr/local/lib/python3.10/dist-packages (from torch) (11.4.5.107)\n",
            "Requirement already satisfied: nvidia-cusparse-cu12==12.1.0.106 in /usr/local/lib/python3.10/dist-packages (from torch) (12.1.0.106)\n",
            "Requirement already satisfied: nvidia-nccl-cu12==2.19.3 in /usr/local/lib/python3.10/dist-packages (from torch) (2.19.3)\n",
            "Requirement already satisfied: nvidia-nvtx-cu12==12.1.105 in /usr/local/lib/python3.10/dist-packages (from torch) (12.1.105)\n",
            "Requirement already satisfied: triton==2.2.0 in /usr/local/lib/python3.10/dist-packages (from torch) (2.2.0)\n",
            "Requirement already satisfied: nvidia-nvjitlink-cu12 in /usr/local/lib/python3.10/dist-packages (from nvidia-cusolver-cu12==11.4.5.107->torch) (12.4.127)\n",
            "Requirement already satisfied: numpy in /usr/local/lib/python3.10/dist-packages (from torchvision) (1.25.2)\n",
            "Requirement already satisfied: pillow!=8.3.*,>=5.3.0 in /usr/local/lib/python3.10/dist-packages (from torchvision) (9.4.0)\n",
            "Requirement already satisfied: MarkupSafe>=2.0 in /usr/local/lib/python3.10/dist-packages (from jinja2->torch) (2.1.5)\n",
            "Requirement already satisfied: mpmath>=0.19 in /usr/local/lib/python3.10/dist-packages (from sympy->torch) (1.3.0)\n",
            "torch version: 2.2.2+cu121\n",
            "torchvision version: 0.17.2+cu121\n"
          ]
        }
      ],
      "source": [
        "# For this notebook to run with updated APIs, we need torch 1.12+ and torchvision 0.13+\n",
        "try:\n",
        "    import torch\n",
        "    import torchvision\n",
        "    assert int(torch.__version__.split(\".\")[1]) >= 12, \"torch version should be 1.12+\"\n",
        "    assert int(torchvision.__version__.split(\".\")[1]) >= 13, \"torchvision version should be 0.13+\"\n",
        "    print(f\"torch version: {torch.__version__}\")\n",
        "    print(f\"torchvision version: {torchvision.__version__}\")\n",
        "except:\n",
        "    print(f\"[INFO] torch/torchvision versions not as required, installing nightly versions.\")\n",
        "    !pip3 install -U torch torchvision torchaudio --extra-index-url https://download.pytorch.org/whl/cu113\n",
        "    import torch\n",
        "    import torchvision\n",
        "    print(f\"torch version: {torch.__version__}\")\n",
        "    print(f\"torchvision version: {torchvision.__version__}\")"
      ]
    },
    {
      "cell_type": "code",
      "source": [
        "# Continue with regular imports\n",
        "import matplotlib.pyplot as plt\n",
        "import torch\n",
        "import torchvision\n",
        "\n",
        "from torch import nn\n",
        "from torchvision import transforms\n",
        "\n",
        "# Try to get torchinfo, install it if it doesn't work\n",
        "try:\n",
        "    from torchinfo import summary\n",
        "except:\n",
        "    print(\"[INFO] Couldn't find torchinfo... installing it.\")\n",
        "    !pip install -q torchinfo\n",
        "    from torchinfo import summary\n",
        "\n",
        "# Try to import the going_modular directory, download it from GitHub if it doesn't work\n",
        "try:\n",
        "    from going_modular.going_modular import data_setup, engine\n",
        "    from helper_functions import download_data, set_seeds, plot_loss_curves\n",
        "except:\n",
        "    # Get the going_modular scripts\n",
        "    print(\"[INFO] Couldn't find going_modular or helper_functions scripts... downloading them from GitHub.\")\n",
        "    !git clone https://github.com/mrdbourke/pytorch-deep-learning\n",
        "    !mv pytorch-deep-learning/going_modular .\n",
        "    !mv pytorch-deep-learning/helper_functions.py . # get the helper_functions.py script\n",
        "    !rm -rf pytorch-deep-learning\n",
        "    from going_modular.going_modular import data_setup, engine\n",
        "    from helper_functions import download_data, set_seeds, plot_loss_curves"
      ],
      "metadata": {
        "id": "3DBHY8US8O66"
      },
      "execution_count": 2,
      "outputs": []
    },
    {
      "cell_type": "code",
      "source": [
        "device = \"cuda\" if torch.cuda.is_available() else \"cpu\"\n",
        "device"
      ],
      "metadata": {
        "colab": {
          "base_uri": "https://localhost:8080/",
          "height": 36
        },
        "id": "owy6sk0O8QlK",
        "outputId": "a2ea7cc6-7154-46d8-f597-2722a5829fd1"
      },
      "execution_count": 3,
      "outputs": [
        {
          "output_type": "execute_result",
          "data": {
            "text/plain": [
              "'cuda'"
            ],
            "application/vnd.google.colaboratory.intrinsic+json": {
              "type": "string"
            }
          },
          "metadata": {},
          "execution_count": 3
        }
      ]
    },
    {
      "cell_type": "code",
      "source": [
        "# Download pizza, steak, sushi images from GitHub\n",
        "data_20_percent_path = download_data(source=\"https://github.com/mrdbourke/pytorch-deep-learning/raw/main/data/pizza_steak_sushi_20_percent.zip\",\n",
        "                                     destination=\"pizza_steak_sushi_20_percent\")\n",
        "\n",
        "data_20_percent_path"
      ],
      "metadata": {
        "colab": {
          "base_uri": "https://localhost:8080/"
        },
        "id": "rdE4aIGa8cAR",
        "outputId": "e3426718-645b-4f41-f564-137a04ae452f"
      },
      "execution_count": 4,
      "outputs": [
        {
          "output_type": "stream",
          "name": "stdout",
          "text": [
            "[INFO] data/pizza_steak_sushi_20_percent directory exists, skipping download.\n"
          ]
        },
        {
          "output_type": "execute_result",
          "data": {
            "text/plain": [
              "PosixPath('data/pizza_steak_sushi_20_percent')"
            ]
          },
          "metadata": {},
          "execution_count": 4
        }
      ]
    },
    {
      "cell_type": "code",
      "source": [
        "train_dir = data_20_percent_path / 'train'\n",
        "test_dir = data_20_percent_path / 'test'\n",
        "\n",
        "train_dir, test_dir"
      ],
      "metadata": {
        "colab": {
          "base_uri": "https://localhost:8080/"
        },
        "id": "mcHT9lmFCE2e",
        "outputId": "44e1beed-999a-40d9-95ee-b24b6b488ea5"
      },
      "execution_count": 5,
      "outputs": [
        {
          "output_type": "execute_result",
          "data": {
            "text/plain": [
              "(PosixPath('data/pizza_steak_sushi_20_percent/train'),\n",
              " PosixPath('data/pizza_steak_sushi_20_percent/test'))"
            ]
          },
          "metadata": {},
          "execution_count": 5
        }
      ]
    },
    {
      "cell_type": "markdown",
      "source": [
        "#Creating Effnetb2 model"
      ],
      "metadata": {
        "id": "ykuNW9teYBsF"
      }
    },
    {
      "cell_type": "code",
      "source": [
        "effnetb2_weights = torchvision.models.EfficientNet_B2_Weights.DEFAULT\n",
        "\n",
        "effnetb2_transforms = effnetb2_weights.transforms()\n",
        "\n",
        "effnetb2 = torchvision.models.efficientnet_b2(weights=effnetb2_weights)\n",
        "\n",
        "for param in effnetb2.parameters():\n",
        "  param.requires_grad = False"
      ],
      "metadata": {
        "id": "PxuTwPubH2VJ"
      },
      "execution_count": 6,
      "outputs": []
    },
    {
      "cell_type": "code",
      "source": [
        "effnetb2.classifier"
      ],
      "metadata": {
        "colab": {
          "base_uri": "https://localhost:8080/"
        },
        "id": "wS_lKkjpH2Mt",
        "outputId": "e7822b4c-f8ae-4d00-c82b-851ecdf7d601"
      },
      "execution_count": 7,
      "outputs": [
        {
          "output_type": "execute_result",
          "data": {
            "text/plain": [
              "Sequential(\n",
              "  (0): Dropout(p=0.3, inplace=True)\n",
              "  (1): Linear(in_features=1408, out_features=1000, bias=True)\n",
              ")"
            ]
          },
          "metadata": {},
          "execution_count": 7
        }
      ]
    },
    {
      "cell_type": "code",
      "source": [
        "effnetb2.classifier = nn.Sequential(nn.Dropout(p=0.3, inplace=True),\n",
        "                                    nn.Linear(in_features=1408,\n",
        "                                              out_features=3))"
      ],
      "metadata": {
        "id": "5h0A8jbXH2KK"
      },
      "execution_count": 8,
      "outputs": []
    },
    {
      "cell_type": "code",
      "source": [
        "def create_effnetb2_model(num_classes:int=3,\n",
        "                          seed:int=33):\n",
        "\n",
        "  effnetb2_weights = torchvision.models.EfficientNet_B2_Weights.DEFAULT\n",
        "\n",
        "  transforms = effnetb2_weights.transforms()\n",
        "\n",
        "  model = torchvision.models.efficientnet_b2(weights=effnetb2_weights)\n",
        "\n",
        "  for param in model.parameters():\n",
        "    param.requires_grad = False\n",
        "\n",
        "  torch.manual_seed(seed)\n",
        "\n",
        "  model.classifier = nn.Sequential(nn.Dropout(p=0.3, inplace=True),\n",
        "                                    nn.Linear(in_features=1408,\n",
        "                                              out_features=num_classes))\n",
        "\n",
        "  return model, transforms"
      ],
      "metadata": {
        "id": "PUnGOp8xI6BD"
      },
      "execution_count": 9,
      "outputs": []
    },
    {
      "cell_type": "code",
      "source": [
        "effnetb2, effnetb2_transforms = create_effnetb2_model(num_classes=3,\n",
        "                                                      seed=33)\n",
        "\n",
        "effnetb2, effnetb2_transforms"
      ],
      "metadata": {
        "colab": {
          "base_uri": "https://localhost:8080/"
        },
        "id": "tb8ssX3sI592",
        "outputId": "438a89a9-93a2-4b34-ff47-8d34f195365c"
      },
      "execution_count": 10,
      "outputs": [
        {
          "output_type": "execute_result",
          "data": {
            "text/plain": [
              "(EfficientNet(\n",
              "   (features): Sequential(\n",
              "     (0): Conv2dNormActivation(\n",
              "       (0): Conv2d(3, 32, kernel_size=(3, 3), stride=(2, 2), padding=(1, 1), bias=False)\n",
              "       (1): BatchNorm2d(32, eps=1e-05, momentum=0.1, affine=True, track_running_stats=True)\n",
              "       (2): SiLU(inplace=True)\n",
              "     )\n",
              "     (1): Sequential(\n",
              "       (0): MBConv(\n",
              "         (block): Sequential(\n",
              "           (0): Conv2dNormActivation(\n",
              "             (0): Conv2d(32, 32, kernel_size=(3, 3), stride=(1, 1), padding=(1, 1), groups=32, bias=False)\n",
              "             (1): BatchNorm2d(32, eps=1e-05, momentum=0.1, affine=True, track_running_stats=True)\n",
              "             (2): SiLU(inplace=True)\n",
              "           )\n",
              "           (1): SqueezeExcitation(\n",
              "             (avgpool): AdaptiveAvgPool2d(output_size=1)\n",
              "             (fc1): Conv2d(32, 8, kernel_size=(1, 1), stride=(1, 1))\n",
              "             (fc2): Conv2d(8, 32, kernel_size=(1, 1), stride=(1, 1))\n",
              "             (activation): SiLU(inplace=True)\n",
              "             (scale_activation): Sigmoid()\n",
              "           )\n",
              "           (2): Conv2dNormActivation(\n",
              "             (0): Conv2d(32, 16, kernel_size=(1, 1), stride=(1, 1), bias=False)\n",
              "             (1): BatchNorm2d(16, eps=1e-05, momentum=0.1, affine=True, track_running_stats=True)\n",
              "           )\n",
              "         )\n",
              "         (stochastic_depth): StochasticDepth(p=0.0, mode=row)\n",
              "       )\n",
              "       (1): MBConv(\n",
              "         (block): Sequential(\n",
              "           (0): Conv2dNormActivation(\n",
              "             (0): Conv2d(16, 16, kernel_size=(3, 3), stride=(1, 1), padding=(1, 1), groups=16, bias=False)\n",
              "             (1): BatchNorm2d(16, eps=1e-05, momentum=0.1, affine=True, track_running_stats=True)\n",
              "             (2): SiLU(inplace=True)\n",
              "           )\n",
              "           (1): SqueezeExcitation(\n",
              "             (avgpool): AdaptiveAvgPool2d(output_size=1)\n",
              "             (fc1): Conv2d(16, 4, kernel_size=(1, 1), stride=(1, 1))\n",
              "             (fc2): Conv2d(4, 16, kernel_size=(1, 1), stride=(1, 1))\n",
              "             (activation): SiLU(inplace=True)\n",
              "             (scale_activation): Sigmoid()\n",
              "           )\n",
              "           (2): Conv2dNormActivation(\n",
              "             (0): Conv2d(16, 16, kernel_size=(1, 1), stride=(1, 1), bias=False)\n",
              "             (1): BatchNorm2d(16, eps=1e-05, momentum=0.1, affine=True, track_running_stats=True)\n",
              "           )\n",
              "         )\n",
              "         (stochastic_depth): StochasticDepth(p=0.008695652173913044, mode=row)\n",
              "       )\n",
              "     )\n",
              "     (2): Sequential(\n",
              "       (0): MBConv(\n",
              "         (block): Sequential(\n",
              "           (0): Conv2dNormActivation(\n",
              "             (0): Conv2d(16, 96, kernel_size=(1, 1), stride=(1, 1), bias=False)\n",
              "             (1): BatchNorm2d(96, eps=1e-05, momentum=0.1, affine=True, track_running_stats=True)\n",
              "             (2): SiLU(inplace=True)\n",
              "           )\n",
              "           (1): Conv2dNormActivation(\n",
              "             (0): Conv2d(96, 96, kernel_size=(3, 3), stride=(2, 2), padding=(1, 1), groups=96, bias=False)\n",
              "             (1): BatchNorm2d(96, eps=1e-05, momentum=0.1, affine=True, track_running_stats=True)\n",
              "             (2): SiLU(inplace=True)\n",
              "           )\n",
              "           (2): SqueezeExcitation(\n",
              "             (avgpool): AdaptiveAvgPool2d(output_size=1)\n",
              "             (fc1): Conv2d(96, 4, kernel_size=(1, 1), stride=(1, 1))\n",
              "             (fc2): Conv2d(4, 96, kernel_size=(1, 1), stride=(1, 1))\n",
              "             (activation): SiLU(inplace=True)\n",
              "             (scale_activation): Sigmoid()\n",
              "           )\n",
              "           (3): Conv2dNormActivation(\n",
              "             (0): Conv2d(96, 24, kernel_size=(1, 1), stride=(1, 1), bias=False)\n",
              "             (1): BatchNorm2d(24, eps=1e-05, momentum=0.1, affine=True, track_running_stats=True)\n",
              "           )\n",
              "         )\n",
              "         (stochastic_depth): StochasticDepth(p=0.017391304347826087, mode=row)\n",
              "       )\n",
              "       (1): MBConv(\n",
              "         (block): Sequential(\n",
              "           (0): Conv2dNormActivation(\n",
              "             (0): Conv2d(24, 144, kernel_size=(1, 1), stride=(1, 1), bias=False)\n",
              "             (1): BatchNorm2d(144, eps=1e-05, momentum=0.1, affine=True, track_running_stats=True)\n",
              "             (2): SiLU(inplace=True)\n",
              "           )\n",
              "           (1): Conv2dNormActivation(\n",
              "             (0): Conv2d(144, 144, kernel_size=(3, 3), stride=(1, 1), padding=(1, 1), groups=144, bias=False)\n",
              "             (1): BatchNorm2d(144, eps=1e-05, momentum=0.1, affine=True, track_running_stats=True)\n",
              "             (2): SiLU(inplace=True)\n",
              "           )\n",
              "           (2): SqueezeExcitation(\n",
              "             (avgpool): AdaptiveAvgPool2d(output_size=1)\n",
              "             (fc1): Conv2d(144, 6, kernel_size=(1, 1), stride=(1, 1))\n",
              "             (fc2): Conv2d(6, 144, kernel_size=(1, 1), stride=(1, 1))\n",
              "             (activation): SiLU(inplace=True)\n",
              "             (scale_activation): Sigmoid()\n",
              "           )\n",
              "           (3): Conv2dNormActivation(\n",
              "             (0): Conv2d(144, 24, kernel_size=(1, 1), stride=(1, 1), bias=False)\n",
              "             (1): BatchNorm2d(24, eps=1e-05, momentum=0.1, affine=True, track_running_stats=True)\n",
              "           )\n",
              "         )\n",
              "         (stochastic_depth): StochasticDepth(p=0.026086956521739136, mode=row)\n",
              "       )\n",
              "       (2): MBConv(\n",
              "         (block): Sequential(\n",
              "           (0): Conv2dNormActivation(\n",
              "             (0): Conv2d(24, 144, kernel_size=(1, 1), stride=(1, 1), bias=False)\n",
              "             (1): BatchNorm2d(144, eps=1e-05, momentum=0.1, affine=True, track_running_stats=True)\n",
              "             (2): SiLU(inplace=True)\n",
              "           )\n",
              "           (1): Conv2dNormActivation(\n",
              "             (0): Conv2d(144, 144, kernel_size=(3, 3), stride=(1, 1), padding=(1, 1), groups=144, bias=False)\n",
              "             (1): BatchNorm2d(144, eps=1e-05, momentum=0.1, affine=True, track_running_stats=True)\n",
              "             (2): SiLU(inplace=True)\n",
              "           )\n",
              "           (2): SqueezeExcitation(\n",
              "             (avgpool): AdaptiveAvgPool2d(output_size=1)\n",
              "             (fc1): Conv2d(144, 6, kernel_size=(1, 1), stride=(1, 1))\n",
              "             (fc2): Conv2d(6, 144, kernel_size=(1, 1), stride=(1, 1))\n",
              "             (activation): SiLU(inplace=True)\n",
              "             (scale_activation): Sigmoid()\n",
              "           )\n",
              "           (3): Conv2dNormActivation(\n",
              "             (0): Conv2d(144, 24, kernel_size=(1, 1), stride=(1, 1), bias=False)\n",
              "             (1): BatchNorm2d(24, eps=1e-05, momentum=0.1, affine=True, track_running_stats=True)\n",
              "           )\n",
              "         )\n",
              "         (stochastic_depth): StochasticDepth(p=0.034782608695652174, mode=row)\n",
              "       )\n",
              "     )\n",
              "     (3): Sequential(\n",
              "       (0): MBConv(\n",
              "         (block): Sequential(\n",
              "           (0): Conv2dNormActivation(\n",
              "             (0): Conv2d(24, 144, kernel_size=(1, 1), stride=(1, 1), bias=False)\n",
              "             (1): BatchNorm2d(144, eps=1e-05, momentum=0.1, affine=True, track_running_stats=True)\n",
              "             (2): SiLU(inplace=True)\n",
              "           )\n",
              "           (1): Conv2dNormActivation(\n",
              "             (0): Conv2d(144, 144, kernel_size=(5, 5), stride=(2, 2), padding=(2, 2), groups=144, bias=False)\n",
              "             (1): BatchNorm2d(144, eps=1e-05, momentum=0.1, affine=True, track_running_stats=True)\n",
              "             (2): SiLU(inplace=True)\n",
              "           )\n",
              "           (2): SqueezeExcitation(\n",
              "             (avgpool): AdaptiveAvgPool2d(output_size=1)\n",
              "             (fc1): Conv2d(144, 6, kernel_size=(1, 1), stride=(1, 1))\n",
              "             (fc2): Conv2d(6, 144, kernel_size=(1, 1), stride=(1, 1))\n",
              "             (activation): SiLU(inplace=True)\n",
              "             (scale_activation): Sigmoid()\n",
              "           )\n",
              "           (3): Conv2dNormActivation(\n",
              "             (0): Conv2d(144, 48, kernel_size=(1, 1), stride=(1, 1), bias=False)\n",
              "             (1): BatchNorm2d(48, eps=1e-05, momentum=0.1, affine=True, track_running_stats=True)\n",
              "           )\n",
              "         )\n",
              "         (stochastic_depth): StochasticDepth(p=0.043478260869565216, mode=row)\n",
              "       )\n",
              "       (1): MBConv(\n",
              "         (block): Sequential(\n",
              "           (0): Conv2dNormActivation(\n",
              "             (0): Conv2d(48, 288, kernel_size=(1, 1), stride=(1, 1), bias=False)\n",
              "             (1): BatchNorm2d(288, eps=1e-05, momentum=0.1, affine=True, track_running_stats=True)\n",
              "             (2): SiLU(inplace=True)\n",
              "           )\n",
              "           (1): Conv2dNormActivation(\n",
              "             (0): Conv2d(288, 288, kernel_size=(5, 5), stride=(1, 1), padding=(2, 2), groups=288, bias=False)\n",
              "             (1): BatchNorm2d(288, eps=1e-05, momentum=0.1, affine=True, track_running_stats=True)\n",
              "             (2): SiLU(inplace=True)\n",
              "           )\n",
              "           (2): SqueezeExcitation(\n",
              "             (avgpool): AdaptiveAvgPool2d(output_size=1)\n",
              "             (fc1): Conv2d(288, 12, kernel_size=(1, 1), stride=(1, 1))\n",
              "             (fc2): Conv2d(12, 288, kernel_size=(1, 1), stride=(1, 1))\n",
              "             (activation): SiLU(inplace=True)\n",
              "             (scale_activation): Sigmoid()\n",
              "           )\n",
              "           (3): Conv2dNormActivation(\n",
              "             (0): Conv2d(288, 48, kernel_size=(1, 1), stride=(1, 1), bias=False)\n",
              "             (1): BatchNorm2d(48, eps=1e-05, momentum=0.1, affine=True, track_running_stats=True)\n",
              "           )\n",
              "         )\n",
              "         (stochastic_depth): StochasticDepth(p=0.05217391304347827, mode=row)\n",
              "       )\n",
              "       (2): MBConv(\n",
              "         (block): Sequential(\n",
              "           (0): Conv2dNormActivation(\n",
              "             (0): Conv2d(48, 288, kernel_size=(1, 1), stride=(1, 1), bias=False)\n",
              "             (1): BatchNorm2d(288, eps=1e-05, momentum=0.1, affine=True, track_running_stats=True)\n",
              "             (2): SiLU(inplace=True)\n",
              "           )\n",
              "           (1): Conv2dNormActivation(\n",
              "             (0): Conv2d(288, 288, kernel_size=(5, 5), stride=(1, 1), padding=(2, 2), groups=288, bias=False)\n",
              "             (1): BatchNorm2d(288, eps=1e-05, momentum=0.1, affine=True, track_running_stats=True)\n",
              "             (2): SiLU(inplace=True)\n",
              "           )\n",
              "           (2): SqueezeExcitation(\n",
              "             (avgpool): AdaptiveAvgPool2d(output_size=1)\n",
              "             (fc1): Conv2d(288, 12, kernel_size=(1, 1), stride=(1, 1))\n",
              "             (fc2): Conv2d(12, 288, kernel_size=(1, 1), stride=(1, 1))\n",
              "             (activation): SiLU(inplace=True)\n",
              "             (scale_activation): Sigmoid()\n",
              "           )\n",
              "           (3): Conv2dNormActivation(\n",
              "             (0): Conv2d(288, 48, kernel_size=(1, 1), stride=(1, 1), bias=False)\n",
              "             (1): BatchNorm2d(48, eps=1e-05, momentum=0.1, affine=True, track_running_stats=True)\n",
              "           )\n",
              "         )\n",
              "         (stochastic_depth): StochasticDepth(p=0.06086956521739131, mode=row)\n",
              "       )\n",
              "     )\n",
              "     (4): Sequential(\n",
              "       (0): MBConv(\n",
              "         (block): Sequential(\n",
              "           (0): Conv2dNormActivation(\n",
              "             (0): Conv2d(48, 288, kernel_size=(1, 1), stride=(1, 1), bias=False)\n",
              "             (1): BatchNorm2d(288, eps=1e-05, momentum=0.1, affine=True, track_running_stats=True)\n",
              "             (2): SiLU(inplace=True)\n",
              "           )\n",
              "           (1): Conv2dNormActivation(\n",
              "             (0): Conv2d(288, 288, kernel_size=(3, 3), stride=(2, 2), padding=(1, 1), groups=288, bias=False)\n",
              "             (1): BatchNorm2d(288, eps=1e-05, momentum=0.1, affine=True, track_running_stats=True)\n",
              "             (2): SiLU(inplace=True)\n",
              "           )\n",
              "           (2): SqueezeExcitation(\n",
              "             (avgpool): AdaptiveAvgPool2d(output_size=1)\n",
              "             (fc1): Conv2d(288, 12, kernel_size=(1, 1), stride=(1, 1))\n",
              "             (fc2): Conv2d(12, 288, kernel_size=(1, 1), stride=(1, 1))\n",
              "             (activation): SiLU(inplace=True)\n",
              "             (scale_activation): Sigmoid()\n",
              "           )\n",
              "           (3): Conv2dNormActivation(\n",
              "             (0): Conv2d(288, 88, kernel_size=(1, 1), stride=(1, 1), bias=False)\n",
              "             (1): BatchNorm2d(88, eps=1e-05, momentum=0.1, affine=True, track_running_stats=True)\n",
              "           )\n",
              "         )\n",
              "         (stochastic_depth): StochasticDepth(p=0.06956521739130435, mode=row)\n",
              "       )\n",
              "       (1): MBConv(\n",
              "         (block): Sequential(\n",
              "           (0): Conv2dNormActivation(\n",
              "             (0): Conv2d(88, 528, kernel_size=(1, 1), stride=(1, 1), bias=False)\n",
              "             (1): BatchNorm2d(528, eps=1e-05, momentum=0.1, affine=True, track_running_stats=True)\n",
              "             (2): SiLU(inplace=True)\n",
              "           )\n",
              "           (1): Conv2dNormActivation(\n",
              "             (0): Conv2d(528, 528, kernel_size=(3, 3), stride=(1, 1), padding=(1, 1), groups=528, bias=False)\n",
              "             (1): BatchNorm2d(528, eps=1e-05, momentum=0.1, affine=True, track_running_stats=True)\n",
              "             (2): SiLU(inplace=True)\n",
              "           )\n",
              "           (2): SqueezeExcitation(\n",
              "             (avgpool): AdaptiveAvgPool2d(output_size=1)\n",
              "             (fc1): Conv2d(528, 22, kernel_size=(1, 1), stride=(1, 1))\n",
              "             (fc2): Conv2d(22, 528, kernel_size=(1, 1), stride=(1, 1))\n",
              "             (activation): SiLU(inplace=True)\n",
              "             (scale_activation): Sigmoid()\n",
              "           )\n",
              "           (3): Conv2dNormActivation(\n",
              "             (0): Conv2d(528, 88, kernel_size=(1, 1), stride=(1, 1), bias=False)\n",
              "             (1): BatchNorm2d(88, eps=1e-05, momentum=0.1, affine=True, track_running_stats=True)\n",
              "           )\n",
              "         )\n",
              "         (stochastic_depth): StochasticDepth(p=0.0782608695652174, mode=row)\n",
              "       )\n",
              "       (2): MBConv(\n",
              "         (block): Sequential(\n",
              "           (0): Conv2dNormActivation(\n",
              "             (0): Conv2d(88, 528, kernel_size=(1, 1), stride=(1, 1), bias=False)\n",
              "             (1): BatchNorm2d(528, eps=1e-05, momentum=0.1, affine=True, track_running_stats=True)\n",
              "             (2): SiLU(inplace=True)\n",
              "           )\n",
              "           (1): Conv2dNormActivation(\n",
              "             (0): Conv2d(528, 528, kernel_size=(3, 3), stride=(1, 1), padding=(1, 1), groups=528, bias=False)\n",
              "             (1): BatchNorm2d(528, eps=1e-05, momentum=0.1, affine=True, track_running_stats=True)\n",
              "             (2): SiLU(inplace=True)\n",
              "           )\n",
              "           (2): SqueezeExcitation(\n",
              "             (avgpool): AdaptiveAvgPool2d(output_size=1)\n",
              "             (fc1): Conv2d(528, 22, kernel_size=(1, 1), stride=(1, 1))\n",
              "             (fc2): Conv2d(22, 528, kernel_size=(1, 1), stride=(1, 1))\n",
              "             (activation): SiLU(inplace=True)\n",
              "             (scale_activation): Sigmoid()\n",
              "           )\n",
              "           (3): Conv2dNormActivation(\n",
              "             (0): Conv2d(528, 88, kernel_size=(1, 1), stride=(1, 1), bias=False)\n",
              "             (1): BatchNorm2d(88, eps=1e-05, momentum=0.1, affine=True, track_running_stats=True)\n",
              "           )\n",
              "         )\n",
              "         (stochastic_depth): StochasticDepth(p=0.08695652173913043, mode=row)\n",
              "       )\n",
              "       (3): MBConv(\n",
              "         (block): Sequential(\n",
              "           (0): Conv2dNormActivation(\n",
              "             (0): Conv2d(88, 528, kernel_size=(1, 1), stride=(1, 1), bias=False)\n",
              "             (1): BatchNorm2d(528, eps=1e-05, momentum=0.1, affine=True, track_running_stats=True)\n",
              "             (2): SiLU(inplace=True)\n",
              "           )\n",
              "           (1): Conv2dNormActivation(\n",
              "             (0): Conv2d(528, 528, kernel_size=(3, 3), stride=(1, 1), padding=(1, 1), groups=528, bias=False)\n",
              "             (1): BatchNorm2d(528, eps=1e-05, momentum=0.1, affine=True, track_running_stats=True)\n",
              "             (2): SiLU(inplace=True)\n",
              "           )\n",
              "           (2): SqueezeExcitation(\n",
              "             (avgpool): AdaptiveAvgPool2d(output_size=1)\n",
              "             (fc1): Conv2d(528, 22, kernel_size=(1, 1), stride=(1, 1))\n",
              "             (fc2): Conv2d(22, 528, kernel_size=(1, 1), stride=(1, 1))\n",
              "             (activation): SiLU(inplace=True)\n",
              "             (scale_activation): Sigmoid()\n",
              "           )\n",
              "           (3): Conv2dNormActivation(\n",
              "             (0): Conv2d(528, 88, kernel_size=(1, 1), stride=(1, 1), bias=False)\n",
              "             (1): BatchNorm2d(88, eps=1e-05, momentum=0.1, affine=True, track_running_stats=True)\n",
              "           )\n",
              "         )\n",
              "         (stochastic_depth): StochasticDepth(p=0.09565217391304348, mode=row)\n",
              "       )\n",
              "     )\n",
              "     (5): Sequential(\n",
              "       (0): MBConv(\n",
              "         (block): Sequential(\n",
              "           (0): Conv2dNormActivation(\n",
              "             (0): Conv2d(88, 528, kernel_size=(1, 1), stride=(1, 1), bias=False)\n",
              "             (1): BatchNorm2d(528, eps=1e-05, momentum=0.1, affine=True, track_running_stats=True)\n",
              "             (2): SiLU(inplace=True)\n",
              "           )\n",
              "           (1): Conv2dNormActivation(\n",
              "             (0): Conv2d(528, 528, kernel_size=(5, 5), stride=(1, 1), padding=(2, 2), groups=528, bias=False)\n",
              "             (1): BatchNorm2d(528, eps=1e-05, momentum=0.1, affine=True, track_running_stats=True)\n",
              "             (2): SiLU(inplace=True)\n",
              "           )\n",
              "           (2): SqueezeExcitation(\n",
              "             (avgpool): AdaptiveAvgPool2d(output_size=1)\n",
              "             (fc1): Conv2d(528, 22, kernel_size=(1, 1), stride=(1, 1))\n",
              "             (fc2): Conv2d(22, 528, kernel_size=(1, 1), stride=(1, 1))\n",
              "             (activation): SiLU(inplace=True)\n",
              "             (scale_activation): Sigmoid()\n",
              "           )\n",
              "           (3): Conv2dNormActivation(\n",
              "             (0): Conv2d(528, 120, kernel_size=(1, 1), stride=(1, 1), bias=False)\n",
              "             (1): BatchNorm2d(120, eps=1e-05, momentum=0.1, affine=True, track_running_stats=True)\n",
              "           )\n",
              "         )\n",
              "         (stochastic_depth): StochasticDepth(p=0.10434782608695654, mode=row)\n",
              "       )\n",
              "       (1): MBConv(\n",
              "         (block): Sequential(\n",
              "           (0): Conv2dNormActivation(\n",
              "             (0): Conv2d(120, 720, kernel_size=(1, 1), stride=(1, 1), bias=False)\n",
              "             (1): BatchNorm2d(720, eps=1e-05, momentum=0.1, affine=True, track_running_stats=True)\n",
              "             (2): SiLU(inplace=True)\n",
              "           )\n",
              "           (1): Conv2dNormActivation(\n",
              "             (0): Conv2d(720, 720, kernel_size=(5, 5), stride=(1, 1), padding=(2, 2), groups=720, bias=False)\n",
              "             (1): BatchNorm2d(720, eps=1e-05, momentum=0.1, affine=True, track_running_stats=True)\n",
              "             (2): SiLU(inplace=True)\n",
              "           )\n",
              "           (2): SqueezeExcitation(\n",
              "             (avgpool): AdaptiveAvgPool2d(output_size=1)\n",
              "             (fc1): Conv2d(720, 30, kernel_size=(1, 1), stride=(1, 1))\n",
              "             (fc2): Conv2d(30, 720, kernel_size=(1, 1), stride=(1, 1))\n",
              "             (activation): SiLU(inplace=True)\n",
              "             (scale_activation): Sigmoid()\n",
              "           )\n",
              "           (3): Conv2dNormActivation(\n",
              "             (0): Conv2d(720, 120, kernel_size=(1, 1), stride=(1, 1), bias=False)\n",
              "             (1): BatchNorm2d(120, eps=1e-05, momentum=0.1, affine=True, track_running_stats=True)\n",
              "           )\n",
              "         )\n",
              "         (stochastic_depth): StochasticDepth(p=0.11304347826086956, mode=row)\n",
              "       )\n",
              "       (2): MBConv(\n",
              "         (block): Sequential(\n",
              "           (0): Conv2dNormActivation(\n",
              "             (0): Conv2d(120, 720, kernel_size=(1, 1), stride=(1, 1), bias=False)\n",
              "             (1): BatchNorm2d(720, eps=1e-05, momentum=0.1, affine=True, track_running_stats=True)\n",
              "             (2): SiLU(inplace=True)\n",
              "           )\n",
              "           (1): Conv2dNormActivation(\n",
              "             (0): Conv2d(720, 720, kernel_size=(5, 5), stride=(1, 1), padding=(2, 2), groups=720, bias=False)\n",
              "             (1): BatchNorm2d(720, eps=1e-05, momentum=0.1, affine=True, track_running_stats=True)\n",
              "             (2): SiLU(inplace=True)\n",
              "           )\n",
              "           (2): SqueezeExcitation(\n",
              "             (avgpool): AdaptiveAvgPool2d(output_size=1)\n",
              "             (fc1): Conv2d(720, 30, kernel_size=(1, 1), stride=(1, 1))\n",
              "             (fc2): Conv2d(30, 720, kernel_size=(1, 1), stride=(1, 1))\n",
              "             (activation): SiLU(inplace=True)\n",
              "             (scale_activation): Sigmoid()\n",
              "           )\n",
              "           (3): Conv2dNormActivation(\n",
              "             (0): Conv2d(720, 120, kernel_size=(1, 1), stride=(1, 1), bias=False)\n",
              "             (1): BatchNorm2d(120, eps=1e-05, momentum=0.1, affine=True, track_running_stats=True)\n",
              "           )\n",
              "         )\n",
              "         (stochastic_depth): StochasticDepth(p=0.12173913043478261, mode=row)\n",
              "       )\n",
              "       (3): MBConv(\n",
              "         (block): Sequential(\n",
              "           (0): Conv2dNormActivation(\n",
              "             (0): Conv2d(120, 720, kernel_size=(1, 1), stride=(1, 1), bias=False)\n",
              "             (1): BatchNorm2d(720, eps=1e-05, momentum=0.1, affine=True, track_running_stats=True)\n",
              "             (2): SiLU(inplace=True)\n",
              "           )\n",
              "           (1): Conv2dNormActivation(\n",
              "             (0): Conv2d(720, 720, kernel_size=(5, 5), stride=(1, 1), padding=(2, 2), groups=720, bias=False)\n",
              "             (1): BatchNorm2d(720, eps=1e-05, momentum=0.1, affine=True, track_running_stats=True)\n",
              "             (2): SiLU(inplace=True)\n",
              "           )\n",
              "           (2): SqueezeExcitation(\n",
              "             (avgpool): AdaptiveAvgPool2d(output_size=1)\n",
              "             (fc1): Conv2d(720, 30, kernel_size=(1, 1), stride=(1, 1))\n",
              "             (fc2): Conv2d(30, 720, kernel_size=(1, 1), stride=(1, 1))\n",
              "             (activation): SiLU(inplace=True)\n",
              "             (scale_activation): Sigmoid()\n",
              "           )\n",
              "           (3): Conv2dNormActivation(\n",
              "             (0): Conv2d(720, 120, kernel_size=(1, 1), stride=(1, 1), bias=False)\n",
              "             (1): BatchNorm2d(120, eps=1e-05, momentum=0.1, affine=True, track_running_stats=True)\n",
              "           )\n",
              "         )\n",
              "         (stochastic_depth): StochasticDepth(p=0.13043478260869565, mode=row)\n",
              "       )\n",
              "     )\n",
              "     (6): Sequential(\n",
              "       (0): MBConv(\n",
              "         (block): Sequential(\n",
              "           (0): Conv2dNormActivation(\n",
              "             (0): Conv2d(120, 720, kernel_size=(1, 1), stride=(1, 1), bias=False)\n",
              "             (1): BatchNorm2d(720, eps=1e-05, momentum=0.1, affine=True, track_running_stats=True)\n",
              "             (2): SiLU(inplace=True)\n",
              "           )\n",
              "           (1): Conv2dNormActivation(\n",
              "             (0): Conv2d(720, 720, kernel_size=(5, 5), stride=(2, 2), padding=(2, 2), groups=720, bias=False)\n",
              "             (1): BatchNorm2d(720, eps=1e-05, momentum=0.1, affine=True, track_running_stats=True)\n",
              "             (2): SiLU(inplace=True)\n",
              "           )\n",
              "           (2): SqueezeExcitation(\n",
              "             (avgpool): AdaptiveAvgPool2d(output_size=1)\n",
              "             (fc1): Conv2d(720, 30, kernel_size=(1, 1), stride=(1, 1))\n",
              "             (fc2): Conv2d(30, 720, kernel_size=(1, 1), stride=(1, 1))\n",
              "             (activation): SiLU(inplace=True)\n",
              "             (scale_activation): Sigmoid()\n",
              "           )\n",
              "           (3): Conv2dNormActivation(\n",
              "             (0): Conv2d(720, 208, kernel_size=(1, 1), stride=(1, 1), bias=False)\n",
              "             (1): BatchNorm2d(208, eps=1e-05, momentum=0.1, affine=True, track_running_stats=True)\n",
              "           )\n",
              "         )\n",
              "         (stochastic_depth): StochasticDepth(p=0.1391304347826087, mode=row)\n",
              "       )\n",
              "       (1): MBConv(\n",
              "         (block): Sequential(\n",
              "           (0): Conv2dNormActivation(\n",
              "             (0): Conv2d(208, 1248, kernel_size=(1, 1), stride=(1, 1), bias=False)\n",
              "             (1): BatchNorm2d(1248, eps=1e-05, momentum=0.1, affine=True, track_running_stats=True)\n",
              "             (2): SiLU(inplace=True)\n",
              "           )\n",
              "           (1): Conv2dNormActivation(\n",
              "             (0): Conv2d(1248, 1248, kernel_size=(5, 5), stride=(1, 1), padding=(2, 2), groups=1248, bias=False)\n",
              "             (1): BatchNorm2d(1248, eps=1e-05, momentum=0.1, affine=True, track_running_stats=True)\n",
              "             (2): SiLU(inplace=True)\n",
              "           )\n",
              "           (2): SqueezeExcitation(\n",
              "             (avgpool): AdaptiveAvgPool2d(output_size=1)\n",
              "             (fc1): Conv2d(1248, 52, kernel_size=(1, 1), stride=(1, 1))\n",
              "             (fc2): Conv2d(52, 1248, kernel_size=(1, 1), stride=(1, 1))\n",
              "             (activation): SiLU(inplace=True)\n",
              "             (scale_activation): Sigmoid()\n",
              "           )\n",
              "           (3): Conv2dNormActivation(\n",
              "             (0): Conv2d(1248, 208, kernel_size=(1, 1), stride=(1, 1), bias=False)\n",
              "             (1): BatchNorm2d(208, eps=1e-05, momentum=0.1, affine=True, track_running_stats=True)\n",
              "           )\n",
              "         )\n",
              "         (stochastic_depth): StochasticDepth(p=0.14782608695652175, mode=row)\n",
              "       )\n",
              "       (2): MBConv(\n",
              "         (block): Sequential(\n",
              "           (0): Conv2dNormActivation(\n",
              "             (0): Conv2d(208, 1248, kernel_size=(1, 1), stride=(1, 1), bias=False)\n",
              "             (1): BatchNorm2d(1248, eps=1e-05, momentum=0.1, affine=True, track_running_stats=True)\n",
              "             (2): SiLU(inplace=True)\n",
              "           )\n",
              "           (1): Conv2dNormActivation(\n",
              "             (0): Conv2d(1248, 1248, kernel_size=(5, 5), stride=(1, 1), padding=(2, 2), groups=1248, bias=False)\n",
              "             (1): BatchNorm2d(1248, eps=1e-05, momentum=0.1, affine=True, track_running_stats=True)\n",
              "             (2): SiLU(inplace=True)\n",
              "           )\n",
              "           (2): SqueezeExcitation(\n",
              "             (avgpool): AdaptiveAvgPool2d(output_size=1)\n",
              "             (fc1): Conv2d(1248, 52, kernel_size=(1, 1), stride=(1, 1))\n",
              "             (fc2): Conv2d(52, 1248, kernel_size=(1, 1), stride=(1, 1))\n",
              "             (activation): SiLU(inplace=True)\n",
              "             (scale_activation): Sigmoid()\n",
              "           )\n",
              "           (3): Conv2dNormActivation(\n",
              "             (0): Conv2d(1248, 208, kernel_size=(1, 1), stride=(1, 1), bias=False)\n",
              "             (1): BatchNorm2d(208, eps=1e-05, momentum=0.1, affine=True, track_running_stats=True)\n",
              "           )\n",
              "         )\n",
              "         (stochastic_depth): StochasticDepth(p=0.1565217391304348, mode=row)\n",
              "       )\n",
              "       (3): MBConv(\n",
              "         (block): Sequential(\n",
              "           (0): Conv2dNormActivation(\n",
              "             (0): Conv2d(208, 1248, kernel_size=(1, 1), stride=(1, 1), bias=False)\n",
              "             (1): BatchNorm2d(1248, eps=1e-05, momentum=0.1, affine=True, track_running_stats=True)\n",
              "             (2): SiLU(inplace=True)\n",
              "           )\n",
              "           (1): Conv2dNormActivation(\n",
              "             (0): Conv2d(1248, 1248, kernel_size=(5, 5), stride=(1, 1), padding=(2, 2), groups=1248, bias=False)\n",
              "             (1): BatchNorm2d(1248, eps=1e-05, momentum=0.1, affine=True, track_running_stats=True)\n",
              "             (2): SiLU(inplace=True)\n",
              "           )\n",
              "           (2): SqueezeExcitation(\n",
              "             (avgpool): AdaptiveAvgPool2d(output_size=1)\n",
              "             (fc1): Conv2d(1248, 52, kernel_size=(1, 1), stride=(1, 1))\n",
              "             (fc2): Conv2d(52, 1248, kernel_size=(1, 1), stride=(1, 1))\n",
              "             (activation): SiLU(inplace=True)\n",
              "             (scale_activation): Sigmoid()\n",
              "           )\n",
              "           (3): Conv2dNormActivation(\n",
              "             (0): Conv2d(1248, 208, kernel_size=(1, 1), stride=(1, 1), bias=False)\n",
              "             (1): BatchNorm2d(208, eps=1e-05, momentum=0.1, affine=True, track_running_stats=True)\n",
              "           )\n",
              "         )\n",
              "         (stochastic_depth): StochasticDepth(p=0.16521739130434784, mode=row)\n",
              "       )\n",
              "       (4): MBConv(\n",
              "         (block): Sequential(\n",
              "           (0): Conv2dNormActivation(\n",
              "             (0): Conv2d(208, 1248, kernel_size=(1, 1), stride=(1, 1), bias=False)\n",
              "             (1): BatchNorm2d(1248, eps=1e-05, momentum=0.1, affine=True, track_running_stats=True)\n",
              "             (2): SiLU(inplace=True)\n",
              "           )\n",
              "           (1): Conv2dNormActivation(\n",
              "             (0): Conv2d(1248, 1248, kernel_size=(5, 5), stride=(1, 1), padding=(2, 2), groups=1248, bias=False)\n",
              "             (1): BatchNorm2d(1248, eps=1e-05, momentum=0.1, affine=True, track_running_stats=True)\n",
              "             (2): SiLU(inplace=True)\n",
              "           )\n",
              "           (2): SqueezeExcitation(\n",
              "             (avgpool): AdaptiveAvgPool2d(output_size=1)\n",
              "             (fc1): Conv2d(1248, 52, kernel_size=(1, 1), stride=(1, 1))\n",
              "             (fc2): Conv2d(52, 1248, kernel_size=(1, 1), stride=(1, 1))\n",
              "             (activation): SiLU(inplace=True)\n",
              "             (scale_activation): Sigmoid()\n",
              "           )\n",
              "           (3): Conv2dNormActivation(\n",
              "             (0): Conv2d(1248, 208, kernel_size=(1, 1), stride=(1, 1), bias=False)\n",
              "             (1): BatchNorm2d(208, eps=1e-05, momentum=0.1, affine=True, track_running_stats=True)\n",
              "           )\n",
              "         )\n",
              "         (stochastic_depth): StochasticDepth(p=0.17391304347826086, mode=row)\n",
              "       )\n",
              "     )\n",
              "     (7): Sequential(\n",
              "       (0): MBConv(\n",
              "         (block): Sequential(\n",
              "           (0): Conv2dNormActivation(\n",
              "             (0): Conv2d(208, 1248, kernel_size=(1, 1), stride=(1, 1), bias=False)\n",
              "             (1): BatchNorm2d(1248, eps=1e-05, momentum=0.1, affine=True, track_running_stats=True)\n",
              "             (2): SiLU(inplace=True)\n",
              "           )\n",
              "           (1): Conv2dNormActivation(\n",
              "             (0): Conv2d(1248, 1248, kernel_size=(3, 3), stride=(1, 1), padding=(1, 1), groups=1248, bias=False)\n",
              "             (1): BatchNorm2d(1248, eps=1e-05, momentum=0.1, affine=True, track_running_stats=True)\n",
              "             (2): SiLU(inplace=True)\n",
              "           )\n",
              "           (2): SqueezeExcitation(\n",
              "             (avgpool): AdaptiveAvgPool2d(output_size=1)\n",
              "             (fc1): Conv2d(1248, 52, kernel_size=(1, 1), stride=(1, 1))\n",
              "             (fc2): Conv2d(52, 1248, kernel_size=(1, 1), stride=(1, 1))\n",
              "             (activation): SiLU(inplace=True)\n",
              "             (scale_activation): Sigmoid()\n",
              "           )\n",
              "           (3): Conv2dNormActivation(\n",
              "             (0): Conv2d(1248, 352, kernel_size=(1, 1), stride=(1, 1), bias=False)\n",
              "             (1): BatchNorm2d(352, eps=1e-05, momentum=0.1, affine=True, track_running_stats=True)\n",
              "           )\n",
              "         )\n",
              "         (stochastic_depth): StochasticDepth(p=0.1826086956521739, mode=row)\n",
              "       )\n",
              "       (1): MBConv(\n",
              "         (block): Sequential(\n",
              "           (0): Conv2dNormActivation(\n",
              "             (0): Conv2d(352, 2112, kernel_size=(1, 1), stride=(1, 1), bias=False)\n",
              "             (1): BatchNorm2d(2112, eps=1e-05, momentum=0.1, affine=True, track_running_stats=True)\n",
              "             (2): SiLU(inplace=True)\n",
              "           )\n",
              "           (1): Conv2dNormActivation(\n",
              "             (0): Conv2d(2112, 2112, kernel_size=(3, 3), stride=(1, 1), padding=(1, 1), groups=2112, bias=False)\n",
              "             (1): BatchNorm2d(2112, eps=1e-05, momentum=0.1, affine=True, track_running_stats=True)\n",
              "             (2): SiLU(inplace=True)\n",
              "           )\n",
              "           (2): SqueezeExcitation(\n",
              "             (avgpool): AdaptiveAvgPool2d(output_size=1)\n",
              "             (fc1): Conv2d(2112, 88, kernel_size=(1, 1), stride=(1, 1))\n",
              "             (fc2): Conv2d(88, 2112, kernel_size=(1, 1), stride=(1, 1))\n",
              "             (activation): SiLU(inplace=True)\n",
              "             (scale_activation): Sigmoid()\n",
              "           )\n",
              "           (3): Conv2dNormActivation(\n",
              "             (0): Conv2d(2112, 352, kernel_size=(1, 1), stride=(1, 1), bias=False)\n",
              "             (1): BatchNorm2d(352, eps=1e-05, momentum=0.1, affine=True, track_running_stats=True)\n",
              "           )\n",
              "         )\n",
              "         (stochastic_depth): StochasticDepth(p=0.19130434782608696, mode=row)\n",
              "       )\n",
              "     )\n",
              "     (8): Conv2dNormActivation(\n",
              "       (0): Conv2d(352, 1408, kernel_size=(1, 1), stride=(1, 1), bias=False)\n",
              "       (1): BatchNorm2d(1408, eps=1e-05, momentum=0.1, affine=True, track_running_stats=True)\n",
              "       (2): SiLU(inplace=True)\n",
              "     )\n",
              "   )\n",
              "   (avgpool): AdaptiveAvgPool2d(output_size=1)\n",
              "   (classifier): Sequential(\n",
              "     (0): Dropout(p=0.3, inplace=True)\n",
              "     (1): Linear(in_features=1408, out_features=3, bias=True)\n",
              "   )\n",
              " ),\n",
              " ImageClassification(\n",
              "     crop_size=[288]\n",
              "     resize_size=[288]\n",
              "     mean=[0.485, 0.456, 0.406]\n",
              "     std=[0.229, 0.224, 0.225]\n",
              "     interpolation=InterpolationMode.BICUBIC\n",
              " ))"
            ]
          },
          "metadata": {},
          "execution_count": 10
        }
      ]
    },
    {
      "cell_type": "markdown",
      "source": [
        "# Creating DataLoaders"
      ],
      "metadata": {
        "id": "B6ZHx3W7Mf4q"
      }
    },
    {
      "cell_type": "code",
      "source": [
        "from going_modular.going_modular import data_setup\n",
        "import torchvision\n",
        "\n",
        "BATCH_SIZE=32\n",
        "\n",
        "train_dataloader, test_dataloader , class_names = data_setup.create_dataloaders(train_dir=train_dir,\n",
        "                                                                                test_dir=test_dir,\n",
        "                                                                                transform=effnetb2_transforms,\n",
        "                                                                                batch_size=BATCH_SIZE)"
      ],
      "metadata": {
        "id": "Jbb_bjH8Ct16"
      },
      "execution_count": 11,
      "outputs": []
    },
    {
      "cell_type": "code",
      "source": [
        "train_dataloader, class_names"
      ],
      "metadata": {
        "colab": {
          "base_uri": "https://localhost:8080/"
        },
        "id": "g8iww86LMfX0",
        "outputId": "01e8bcf7-29b1-49ad-a45c-597e102d8802"
      },
      "execution_count": 12,
      "outputs": [
        {
          "output_type": "execute_result",
          "data": {
            "text/plain": [
              "(<torch.utils.data.dataloader.DataLoader at 0x7c125fb47d00>,\n",
              " ['pizza', 'steak', 'sushi'])"
            ]
          },
          "metadata": {},
          "execution_count": 12
        }
      ]
    },
    {
      "cell_type": "code",
      "source": [
        "from going_modular.going_modular import engine\n",
        "\n",
        "loss_fn = torch.nn.CrossEntropyLoss()\n",
        "optimizer = torch.optim.Adam(params=effnetb2.parameters(),\n",
        "                             lr=0.001)\n",
        "\n",
        "effnetb2_results = engine.train(model=effnetb2,\n",
        "             train_dataloader=train_dataloader,\n",
        "             test_dataloader=test_dataloader,\n",
        "             optimizer=optimizer,\n",
        "             loss_fn=loss_fn,\n",
        "             epochs=10,\n",
        "             device=device)"
      ],
      "metadata": {
        "colab": {
          "base_uri": "https://localhost:8080/",
          "height": 223,
          "referenced_widgets": [
            "fbcd47f5e64e41f9b14a2719ec1b5ad9",
            "6ca813238f37466aa8946cd06412fcaf",
            "b9d4e6b9428546eb8873da3743ba39cf",
            "1ee143506fe84b31abefb1c13ba87433",
            "cdd7220c82a043528d007d9a1fc65d59",
            "96e3ed120d0443798603cc211118d35c",
            "11ab4646fb774431a4c9d17777f8d0f3",
            "b6e1d3bb2f224a35a8dfdc3ac79c0a48",
            "be385b4d7fe242879de6c53d8d578674",
            "1c5ccbb32ef24979ba19149900ca643c",
            "31f6061268ad4190bc8fd0d2196b7793"
          ]
        },
        "id": "R9idKGgdMfVK",
        "outputId": "500afd1a-a965-4736-df85-c1c169378941"
      },
      "execution_count": 13,
      "outputs": [
        {
          "output_type": "display_data",
          "data": {
            "text/plain": [
              "  0%|          | 0/10 [00:00<?, ?it/s]"
            ],
            "application/vnd.jupyter.widget-view+json": {
              "version_major": 2,
              "version_minor": 0,
              "model_id": "fbcd47f5e64e41f9b14a2719ec1b5ad9"
            }
          },
          "metadata": {}
        },
        {
          "output_type": "stream",
          "name": "stdout",
          "text": [
            "Epoch: 1 | train_loss: 0.9518 | train_acc: 0.5604 | test_loss: 0.7435 | test_acc: 0.8767\n",
            "Epoch: 2 | train_loss: 0.7419 | train_acc: 0.7771 | test_loss: 0.5946 | test_acc: 0.9256\n",
            "Epoch: 3 | train_loss: 0.5851 | train_acc: 0.8458 | test_loss: 0.5217 | test_acc: 0.9290\n",
            "Epoch: 4 | train_loss: 0.4683 | train_acc: 0.9062 | test_loss: 0.4302 | test_acc: 0.9381\n",
            "Epoch: 5 | train_loss: 0.4660 | train_acc: 0.8625 | test_loss: 0.3957 | test_acc: 0.9227\n",
            "Epoch: 6 | train_loss: 0.3715 | train_acc: 0.9125 | test_loss: 0.3533 | test_acc: 0.9443\n",
            "Epoch: 7 | train_loss: 0.3343 | train_acc: 0.9229 | test_loss: 0.3432 | test_acc: 0.9443\n",
            "Epoch: 8 | train_loss: 0.3279 | train_acc: 0.9062 | test_loss: 0.3218 | test_acc: 0.9381\n",
            "Epoch: 9 | train_loss: 0.3041 | train_acc: 0.9354 | test_loss: 0.2966 | test_acc: 0.9443\n",
            "Epoch: 10 | train_loss: 0.3207 | train_acc: 0.8958 | test_loss: 0.2782 | test_acc: 0.9477\n"
          ]
        }
      ]
    },
    {
      "cell_type": "code",
      "source": [
        "plot_loss_curves(effnetb2_results)"
      ],
      "metadata": {
        "colab": {
          "base_uri": "https://localhost:8080/",
          "height": 641
        },
        "id": "1xoSWRRBMfSC",
        "outputId": "7ed02def-9ea4-4c6b-f4b5-d7816b131f0d"
      },
      "execution_count": 14,
      "outputs": [
        {
          "output_type": "display_data",
          "data": {
            "text/plain": [
              "<Figure size 1500x700 with 2 Axes>"
            ],
            "image/png": "[encoded data removed]"
          },
          "metadata": {}
        }
      ]
    },
    {
      "cell_type": "code",
      "source": [
        "from going_modular.going_modular import utils\n",
        "\n",
        "# Save the model\n",
        "utils.save_model(model=effnetb2,\n",
        "                 target_dir=\"models\",\n",
        "                 model_name=\"09_pretrained_effnetb2_feature_extractor_pizza_steak_sushi_20_percent.pth\")"
      ],
      "metadata": {
        "colab": {
          "base_uri": "https://localhost:8080/"
        },
        "id": "_YhLsH0LMfPM",
        "outputId": "9a182a70-fd2e-42bb-e776-08e74bf71311"
      },
      "execution_count": 15,
      "outputs": [
        {
          "output_type": "stream",
          "name": "stdout",
          "text": [
            "[INFO] Saving model to: models/09_pretrained_effnetb2_feature_extractor_pizza_steak_sushi_20_percent.pth\n"
          ]
        }
      ]
    },
    {
      "cell_type": "code",
      "source": [
        "from pathlib import Path\n",
        "\n",
        "pretrained_effnetb2_model_size = Path('models/09_pretrained_effnetb2_feature_extractor_pizza_steak_sushi_20_percent.pth').stat().st_size / (1024 * 1024)\n",
        "print(f'Your model size is {pretrained_effnetb2_model_size:.2f} mb')"
      ],
      "metadata": {
        "colab": {
          "base_uri": "https://localhost:8080/"
        },
        "id": "_7bv-eYOMfMU",
        "outputId": "bd808321-8780-457c-9530-9ddcdee0c020"
      },
      "execution_count": 19,
      "outputs": [
        {
          "output_type": "stream",
          "name": "stdout",
          "text": [
            "Your model size is 29.86 mb\n"
          ]
        }
      ]
    },
    {
      "cell_type": "markdown",
      "source": [
        "# effnetb2 stats"
      ],
      "metadata": {
        "id": "5XcMm1KiWYe6"
      }
    },
    {
      "cell_type": "code",
      "source": [
        "#num of params\n",
        "effnetb2_total_params = sum(torch.numel(param) for param in effnetb2.parameters())\n",
        "effnetb2_total_params"
      ],
      "metadata": {
        "colab": {
          "base_uri": "https://localhost:8080/"
        },
        "id": "Y3M8A8ChMfJT",
        "outputId": "df73a300-99cb-4c63-8202-0c2893d1ffbd"
      },
      "execution_count": 20,
      "outputs": [
        {
          "output_type": "execute_result",
          "data": {
            "text/plain": [
              "7705221"
            ]
          },
          "metadata": {},
          "execution_count": 20
        }
      ]
    },
    {
      "cell_type": "code",
      "source": [
        "# effnetb2 dic stats\n",
        "effnetb2_stats = {'test_loss': effnetb2_results['test_loss'][-1],\n",
        "                  'test_acc': effnetb2_results['test_acc'][-1],\n",
        "                  'number_of_parameters': effnetb2_total_params,\n",
        "                  'model_size (MB)': pretrained_effnetb2_model_size}\n",
        "\n",
        "effnetb2_stats\n"
      ],
      "metadata": {
        "colab": {
          "base_uri": "https://localhost:8080/"
        },
        "id": "fllLA631MfGm",
        "outputId": "5b1fc5a7-bfce-4fd9-84b0-810bbe504666"
      },
      "execution_count": 22,
      "outputs": [
        {
          "output_type": "execute_result",
          "data": {
            "text/plain": [
              "{'test_loss': 0.27820318937301636,\n",
              " 'test_acc': 0.9477272727272726,\n",
              " 'number_of_parameters': 7705221,\n",
              " 'model_size (MB)': 29.8638858795166}"
            ]
          },
          "metadata": {},
          "execution_count": 22
        }
      ]
    },
    {
      "cell_type": "markdown",
      "source": [
        "# Creating ViT model"
      ],
      "metadata": {
        "id": "MI_Kx70DX3eQ"
      }
    },
    {
      "cell_type": "code",
      "source": [
        "vit = torchvision.models.vit_b_16()\n",
        "vit.heads"
      ],
      "metadata": {
        "colab": {
          "base_uri": "https://localhost:8080/"
        },
        "id": "stdOYKV-Zs6i",
        "outputId": "1e64976e-9865-4c1a-b0d9-33832de55b40"
      },
      "execution_count": 50,
      "outputs": [
        {
          "output_type": "execute_result",
          "data": {
            "text/plain": [
              "Sequential(\n",
              "  (head): Linear(in_features=768, out_features=1000, bias=True)\n",
              ")"
            ]
          },
          "metadata": {},
          "execution_count": 50
        }
      ]
    },
    {
      "cell_type": "code",
      "source": [
        "def create_vitb16_model(num_classes:int=3,\n",
        "                        seed:int=33):\n",
        "  weights = torchvision.models.ViT_B_16_Weights.DEFAULT\n",
        "  transforms = weights.transforms()\n",
        "  model = torchvision.models.vit_b_16(weights=weights)\n",
        "\n",
        "  for param in model.parameters():\n",
        "    param.requires_grad = False\n",
        "\n",
        "  torch.manual_seed(seed)\n",
        "  model.heads = nn.Sequential(nn.Linear(in_features=768,\n",
        "                                         out_features=num_classes))\n",
        "\n",
        "  return model, transforms"
      ],
      "metadata": {
        "id": "QK5y6XJ9XalH"
      },
      "execution_count": 51,
      "outputs": []
    },
    {
      "cell_type": "code",
      "source": [
        "def create_vit_model(num_classes:int=3,\n",
        "                     seed:int=42):\n",
        "    \"\"\"Creates a ViT-B/16 feature extractor model and transforms.\n",
        "\n",
        "    Args:\n",
        "        num_classes (int, optional): number of target classes. Defaults to 3.\n",
        "        seed (int, optional): random seed value for output layer. Defaults to 42.\n",
        "\n",
        "    Returns:\n",
        "        model (torch.nn.Module): ViT-B/16 feature extractor model.\n",
        "        transforms (torchvision.transforms): ViT-B/16 image transforms.\n",
        "    \"\"\"\n",
        "    # Create ViT_B_16 pretrained weights, transforms and model\n",
        "    weights = torchvision.models.ViT_B_16_Weights.DEFAULT\n",
        "    transforms = weights.transforms()\n",
        "    model = torchvision.models.vit_b_16(weights=weights)\n",
        "\n",
        "    # Freeze all layers in model\n",
        "    for param in model.parameters():\n",
        "        param.requires_grad = False\n",
        "\n",
        "    # Change classifier head to suit our needs (this will be trainable)\n",
        "    torch.manual_seed(seed)\n",
        "    model.heads = nn.Sequential(nn.Linear(in_features=768, # keep this the same as original model\n",
        "                                          out_features=num_classes)) # update to reflect target number of classes\n",
        "\n",
        "    return model, transforms"
      ],
      "metadata": {
        "id": "_zqXk6greRuE"
      },
      "execution_count": 57,
      "outputs": []
    },
    {
      "cell_type": "code",
      "source": [
        "# Create ViT model and transforms\n",
        "vit, vit_transforms = create_vit_model(num_classes=3,\n",
        "                                       seed=42)\n"
      ],
      "metadata": {
        "id": "YpRTm8JNZ-Hj"
      },
      "execution_count": 64,
      "outputs": []
    },
    {
      "cell_type": "code",
      "source": [
        "# Setup ViT DataLoaders\n",
        "from going_modular.going_modular import data_setup\n",
        "train_dataloader_vit, test_dataloader_vit, class_names = data_setup.create_dataloaders(train_dir=train_dir,\n",
        "                                                                                       test_dir=test_dir,\n",
        "                                                                                       transform=vit_transforms,\n",
        "                                                                                       batch_size=32)"
      ],
      "metadata": {
        "id": "RkXAynB0Z-E2"
      },
      "execution_count": 65,
      "outputs": []
    },
    {
      "cell_type": "code",
      "source": [
        "from going_modular.going_modular import engine\n",
        "\n",
        "# Setup optimizer\n",
        "optimizer = torch.optim.Adam(params=vit.parameters(),\n",
        "                             lr=1e-3)\n",
        "# Setup loss function\n",
        "loss_fn = torch.nn.CrossEntropyLoss()\n",
        "\n",
        "# Train ViT model with seeds set for reproducibility\n",
        "set_seeds()\n",
        "vit_results = engine.train(model=vit,\n",
        "                           train_dataloader=train_dataloader_vit,\n",
        "                           test_dataloader=test_dataloader_vit,\n",
        "                           epochs=10,\n",
        "                           optimizer=optimizer,\n",
        "                           loss_fn=loss_fn,\n",
        "                           device=device)"
      ],
      "metadata": {
        "colab": {
          "base_uri": "https://localhost:8080/",
          "height": 223,
          "referenced_widgets": [
            "558090f206e54511b58471ba122991be",
            "d740dfc7aeb341f9afd403bcabaa4f39",
            "5bbfe61b305445298a1ae0fab8e1719b",
            "e104d982cbe2453ebd2a525c724e9189",
            "7bb14f41e73f4293a04a1ee65d8147f3",
            "1118c1af36e148ec8438982bb8a75b05",
            "9c6446efed6f4a99adee05969f68ffef",
            "ca62e600494e410998f9f081a90e70a7",
            "d0a82239d8fd4a75bd00d942757582c9",
            "d6543a80a5a647799cff468c483a7268",
            "550661d9afce43c0ba21235cb12ce395"
          ]
        },
        "id": "KNS57-CMZ-CK",
        "outputId": "c0a6bcd1-1264-48a3-b773-073f211045b4"
      },
      "execution_count": 66,
      "outputs": [
        {
          "output_type": "display_data",
          "data": {
            "text/plain": [
              "  0%|          | 0/10 [00:00<?, ?it/s]"
            ],
            "application/vnd.jupyter.widget-view+json": {
              "version_major": 2,
              "version_minor": 0,
              "model_id": "558090f206e54511b58471ba122991be"
            }
          },
          "metadata": {}
        },
        {
          "output_type": "stream",
          "name": "stdout",
          "text": [
            "Epoch: 1 | train_loss: 0.7020 | train_acc: 0.7521 | test_loss: 0.2714 | test_acc: 0.9381\n",
            "Epoch: 2 | train_loss: 0.2532 | train_acc: 0.9062 | test_loss: 0.1672 | test_acc: 0.9602\n",
            "Epoch: 3 | train_loss: 0.1764 | train_acc: 0.9542 | test_loss: 0.1273 | test_acc: 0.9693\n",
            "Epoch: 4 | train_loss: 0.1276 | train_acc: 0.9625 | test_loss: 0.1074 | test_acc: 0.9722\n",
            "Epoch: 5 | train_loss: 0.1159 | train_acc: 0.9646 | test_loss: 0.0953 | test_acc: 0.9784\n",
            "Epoch: 6 | train_loss: 0.1274 | train_acc: 0.9375 | test_loss: 0.0832 | test_acc: 0.9722\n",
            "Epoch: 7 | train_loss: 0.0897 | train_acc: 0.9771 | test_loss: 0.0845 | test_acc: 0.9784\n",
            "Epoch: 8 | train_loss: 0.0919 | train_acc: 0.9812 | test_loss: 0.0764 | test_acc: 0.9722\n",
            "Epoch: 9 | train_loss: 0.0922 | train_acc: 0.9792 | test_loss: 0.0734 | test_acc: 0.9784\n",
            "Epoch: 10 | train_loss: 0.0658 | train_acc: 0.9833 | test_loss: 0.0644 | test_acc: 0.9847\n"
          ]
        }
      ]
    },
    {
      "cell_type": "code",
      "source": [
        "from helper_functions import plot_loss_curves\n",
        "\n",
        "plot_loss_curves(vit_results)"
      ],
      "metadata": {
        "colab": {
          "base_uri": "https://localhost:8080/",
          "height": 641
        },
        "id": "Cttvd0-VZ9_F",
        "outputId": "39ec209f-1404-4714-efed-f4082b1413b7"
      },
      "execution_count": 67,
      "outputs": [
        {
          "output_type": "display_data",
          "data": {
            "text/plain": [
              "<Figure size 1500x700 with 2 Axes>"
            ],
            "image/png": "[encoded data removed]"
          },
          "metadata": {}
        }
      ]
    },
    {
      "cell_type": "code",
      "source": [
        "from going_modular.going_modular import utils\n",
        "\n",
        "# Save the model\n",
        "utils.save_model(model=vit,\n",
        "                 target_dir=\"models\",\n",
        "                 model_name=\"09_pretrained_vitb16_feature_extractor_pizza_steak_sushi_20_percent.pth\")"
      ],
      "metadata": {
        "colab": {
          "base_uri": "https://localhost:8080/"
        },
        "id": "HY-XPvkTcj_V",
        "outputId": "d6dfc2a3-d00e-40d2-a8f6-d3f72d1c2349"
      },
      "execution_count": 68,
      "outputs": [
        {
          "output_type": "stream",
          "name": "stdout",
          "text": [
            "[INFO] Saving model to: models/09_pretrained_vitb16_feature_extractor_pizza_steak_sushi_20_percent.pth\n"
          ]
        }
      ]
    },
    {
      "cell_type": "code",
      "source": [
        "from pathlib import Path\n",
        "\n",
        "pretrained_vit_model_size = Path('models/09_pretrained_vitb16_feature_extractor_pizza_steak_sushi_20_percent.pth').stat().st_size / (1024 * 1024)\n",
        "print(f'Your model size is {pretrained_vit_model_size:.2f} mb')"
      ],
      "metadata": {
        "colab": {
          "base_uri": "https://localhost:8080/"
        },
        "id": "NkekBsWxfV6z",
        "outputId": "147d4a43-dec0-4808-f9e1-5b66c16d8104"
      },
      "execution_count": 69,
      "outputs": [
        {
          "output_type": "stream",
          "name": "stdout",
          "text": [
            "Your model size is 327.37 mb\n"
          ]
        }
      ]
    },
    {
      "cell_type": "code",
      "source": [
        "#num of params\n",
        "vit_total_params = sum(torch.numel(param) for param in vit.parameters())\n",
        "vit_total_params"
      ],
      "metadata": {
        "colab": {
          "base_uri": "https://localhost:8080/"
        },
        "id": "ZCt20JuUfV4M",
        "outputId": "ed86ed4a-f2fd-4890-d689-25a99ed7fd93"
      },
      "execution_count": 71,
      "outputs": [
        {
          "output_type": "execute_result",
          "data": {
            "text/plain": [
              "85800963"
            ]
          },
          "metadata": {},
          "execution_count": 71
        }
      ]
    },
    {
      "cell_type": "code",
      "source": [
        "# effnetb2 dic stats\n",
        "vit_stats = {'test_loss': vit_results['test_loss'][-1],\n",
        "                  'test_acc': vit_results['test_acc'][-1],\n",
        "                  'number_of_parameters': vit_total_params,\n",
        "                  'model_size (MB)': pretrained_vit_model_size}\n",
        "\n",
        "vit_stats"
      ],
      "metadata": {
        "colab": {
          "base_uri": "https://localhost:8080/"
        },
        "id": "NCPLiHzcfV1T",
        "outputId": "f4157b05-e4e7-4a67-e69b-0d461222088b"
      },
      "execution_count": 72,
      "outputs": [
        {
          "output_type": "execute_result",
          "data": {
            "text/plain": [
              "{'test_loss': 0.06443451717495918,\n",
              " 'test_acc': 0.984659090909091,\n",
              " 'number_of_parameters': 85800963,\n",
              " 'model_size (MB)': 327.3714771270752}"
            ]
          },
          "metadata": {},
          "execution_count": 72
        }
      ]
    },
    {
      "cell_type": "code",
      "source": [
        "test_data_paths = list(Path(test_dir).glob('*/*.jpg'))\n",
        "test_data_paths"
      ],
      "metadata": {
        "colab": {
          "base_uri": "https://localhost:8080/"
        },
        "id": "F9Cf0Vjnl_VZ",
        "outputId": "e522c35e-516a-4780-ba18-3c4f211c8473"
      },
      "execution_count": 74,
      "outputs": [
        {
          "output_type": "execute_result",
          "data": {
            "text/plain": [
              "[PosixPath('data/pizza_steak_sushi_20_percent/test/steak/3757027.jpg'),\n",
              " PosixPath('data/pizza_steak_sushi_20_percent/test/steak/1655387.jpg'),\n",
              " PosixPath('data/pizza_steak_sushi_20_percent/test/steak/1848936.jpg'),\n",
              " PosixPath('data/pizza_steak_sushi_20_percent/test/steak/3479599.jpg'),\n",
              " PosixPath('data/pizza_steak_sushi_20_percent/test/steak/3063435.jpg'),\n",
              " PosixPath('data/pizza_steak_sushi_20_percent/test/steak/864661.jpg'),\n",
              " PosixPath('data/pizza_steak_sushi_20_percent/test/steak/66858.jpg'),\n",
              " PosixPath('data/pizza_steak_sushi_20_percent/test/steak/2315011.jpg'),\n",
              " PosixPath('data/pizza_steak_sushi_20_percent/test/steak/39461.jpg'),\n",
              " PosixPath('data/pizza_steak_sushi_20_percent/test/steak/2475366.jpg'),\n",
              " PosixPath('data/pizza_steak_sushi_20_percent/test/steak/1285886.jpg'),\n",
              " PosixPath('data/pizza_steak_sushi_20_percent/test/steak/3873655.jpg'),\n",
              " PosixPath('data/pizza_steak_sushi_20_percent/test/steak/697562.jpg'),\n",
              " PosixPath('data/pizza_steak_sushi_20_percent/test/steak/2353677.jpg'),\n",
              " PosixPath('data/pizza_steak_sushi_20_percent/test/steak/476333.jpg'),\n",
              " PosixPath('data/pizza_steak_sushi_20_percent/test/steak/550687.jpg'),\n",
              " PosixPath('data/pizza_steak_sushi_20_percent/test/steak/3100563.jpg'),\n",
              " PosixPath('data/pizza_steak_sushi_20_percent/test/steak/595836.jpg'),\n",
              " PosixPath('data/pizza_steak_sushi_20_percent/test/steak/1523026.jpg'),\n",
              " PosixPath('data/pizza_steak_sushi_20_percent/test/steak/1972463.jpg'),\n",
              " PosixPath('data/pizza_steak_sushi_20_percent/test/steak/3173402.jpg'),\n",
              " PosixPath('data/pizza_steak_sushi_20_percent/test/steak/552171.jpg'),\n",
              " PosixPath('data/pizza_steak_sushi_20_percent/test/steak/2061929.jpg'),\n",
              " PosixPath('data/pizza_steak_sushi_20_percent/test/steak/413497.jpg'),\n",
              " PosixPath('data/pizza_steak_sushi_20_percent/test/steak/1082384.jpg'),\n",
              " PosixPath('data/pizza_steak_sushi_20_percent/test/steak/2307638.jpg'),\n",
              " PosixPath('data/pizza_steak_sushi_20_percent/test/steak/40947.jpg'),\n",
              " PosixPath('data/pizza_steak_sushi_20_percent/test/steak/2752603.jpg'),\n",
              " PosixPath('data/pizza_steak_sushi_20_percent/test/steak/108310.jpg'),\n",
              " PosixPath('data/pizza_steak_sushi_20_percent/test/steak/3138001.jpg'),\n",
              " PosixPath('data/pizza_steak_sushi_20_percent/test/steak/219196.jpg'),\n",
              " PosixPath('data/pizza_steak_sushi_20_percent/test/steak/367422.jpg'),\n",
              " PosixPath('data/pizza_steak_sushi_20_percent/test/steak/1982192.jpg'),\n",
              " PosixPath('data/pizza_steak_sushi_20_percent/test/steak/1482489.jpg'),\n",
              " PosixPath('data/pizza_steak_sushi_20_percent/test/steak/1302563.jpg'),\n",
              " PosixPath('data/pizza_steak_sushi_20_percent/test/steak/3553838.jpg'),\n",
              " PosixPath('data/pizza_steak_sushi_20_percent/test/steak/2117351.jpg'),\n",
              " PosixPath('data/pizza_steak_sushi_20_percent/test/steak/2756200.jpg'),\n",
              " PosixPath('data/pizza_steak_sushi_20_percent/test/steak/3622237.jpg'),\n",
              " PosixPath('data/pizza_steak_sushi_20_percent/test/steak/746921.jpg'),\n",
              " PosixPath('data/pizza_steak_sushi_20_percent/test/steak/2716791.jpg'),\n",
              " PosixPath('data/pizza_steak_sushi_20_percent/test/steak/86782.jpg'),\n",
              " PosixPath('data/pizza_steak_sushi_20_percent/test/steak/1335842.jpg'),\n",
              " PosixPath('data/pizza_steak_sushi_20_percent/test/steak/48208.jpg'),\n",
              " PosixPath('data/pizza_steak_sushi_20_percent/test/steak/3541033.jpg'),\n",
              " PosixPath('data/pizza_steak_sushi_20_percent/test/steak/399377.jpg'),\n",
              " PosixPath('data/pizza_steak_sushi_20_percent/test/steak/670345.jpg'),\n",
              " PosixPath('data/pizza_steak_sushi_20_percent/test/steak/831681.jpg'),\n",
              " PosixPath('data/pizza_steak_sushi_20_percent/test/steak/2246332.jpg'),\n",
              " PosixPath('data/pizza_steak_sushi_20_percent/test/steak/1902895.jpg'),\n",
              " PosixPath('data/pizza_steak_sushi_20_percent/test/steak/2365038.jpg'),\n",
              " PosixPath('data/pizza_steak_sushi_20_percent/test/steak/2069289.jpg'),\n",
              " PosixPath('data/pizza_steak_sushi_20_percent/test/steak/1882831.jpg'),\n",
              " PosixPath('data/pizza_steak_sushi_20_percent/test/steak/100274.jpg'),\n",
              " PosixPath('data/pizza_steak_sushi_20_percent/test/steak/289822.jpg'),\n",
              " PosixPath('data/pizza_steak_sushi_20_percent/test/steak/3497585.jpg'),\n",
              " PosixPath('data/pizza_steak_sushi_20_percent/test/steak/730464.jpg'),\n",
              " PosixPath('data/pizza_steak_sushi_20_percent/test/steak/1166047.jpg'),\n",
              " PosixPath('data/pizza_steak_sushi_20_percent/test/pizza/3174637.jpg'),\n",
              " PosixPath('data/pizza_steak_sushi_20_percent/test/pizza/482858.jpg'),\n",
              " PosixPath('data/pizza_steak_sushi_20_percent/test/pizza/2997525.jpg'),\n",
              " PosixPath('data/pizza_steak_sushi_20_percent/test/pizza/1618659.jpg'),\n",
              " PosixPath('data/pizza_steak_sushi_20_percent/test/pizza/204151.jpg'),\n",
              " PosixPath('data/pizza_steak_sushi_20_percent/test/pizza/788315.jpg'),\n",
              " PosixPath('data/pizza_steak_sushi_20_percent/test/pizza/2582289.jpg'),\n",
              " PosixPath('data/pizza_steak_sushi_20_percent/test/pizza/61656.jpg'),\n",
              " PosixPath('data/pizza_steak_sushi_20_percent/test/pizza/3497151.jpg'),\n",
              " PosixPath('data/pizza_steak_sushi_20_percent/test/pizza/1555015.jpg'),\n",
              " PosixPath('data/pizza_steak_sushi_20_percent/test/pizza/930553.jpg'),\n",
              " PosixPath('data/pizza_steak_sushi_20_percent/test/pizza/724290.jpg'),\n",
              " PosixPath('data/pizza_steak_sushi_20_percent/test/pizza/2549661.jpg'),\n",
              " PosixPath('data/pizza_steak_sushi_20_percent/test/pizza/1067986.jpg'),\n",
              " PosixPath('data/pizza_steak_sushi_20_percent/test/pizza/3375083.jpg'),\n",
              " PosixPath('data/pizza_steak_sushi_20_percent/test/pizza/148765.jpg'),\n",
              " PosixPath('data/pizza_steak_sushi_20_percent/test/pizza/2398925.jpg'),\n",
              " PosixPath('data/pizza_steak_sushi_20_percent/test/pizza/1687143.jpg'),\n",
              " PosixPath('data/pizza_steak_sushi_20_percent/test/pizza/441659.jpg'),\n",
              " PosixPath('data/pizza_steak_sushi_20_percent/test/pizza/648055.jpg'),\n",
              " PosixPath('data/pizza_steak_sushi_20_percent/test/pizza/419962.jpg'),\n",
              " PosixPath('data/pizza_steak_sushi_20_percent/test/pizza/2572488.jpg'),\n",
              " PosixPath('data/pizza_steak_sushi_20_percent/test/pizza/3770514.jpg'),\n",
              " PosixPath('data/pizza_steak_sushi_20_percent/test/pizza/833711.jpg'),\n",
              " PosixPath('data/pizza_steak_sushi_20_percent/test/pizza/420409.jpg'),\n",
              " PosixPath('data/pizza_steak_sushi_20_percent/test/pizza/476421.jpg'),\n",
              " PosixPath('data/pizza_steak_sushi_20_percent/test/pizza/771336.jpg'),\n",
              " PosixPath('data/pizza_steak_sushi_20_percent/test/pizza/2111981.jpg'),\n",
              " PosixPath('data/pizza_steak_sushi_20_percent/test/pizza/3729167.jpg'),\n",
              " PosixPath('data/pizza_steak_sushi_20_percent/test/pizza/129666.jpg'),\n",
              " PosixPath('data/pizza_steak_sushi_20_percent/test/pizza/3785667.jpg'),\n",
              " PosixPath('data/pizza_steak_sushi_20_percent/test/pizza/3486640.jpg'),\n",
              " PosixPath('data/pizza_steak_sushi_20_percent/test/pizza/1032754.jpg'),\n",
              " PosixPath('data/pizza_steak_sushi_20_percent/test/pizza/2782998.jpg'),\n",
              " PosixPath('data/pizza_steak_sushi_20_percent/test/pizza/380739.jpg'),\n",
              " PosixPath('data/pizza_steak_sushi_20_percent/test/pizza/1315645.jpg'),\n",
              " PosixPath('data/pizza_steak_sushi_20_percent/test/pizza/3376617.jpg'),\n",
              " PosixPath('data/pizza_steak_sushi_20_percent/test/pizza/416067.jpg'),\n",
              " PosixPath('data/pizza_steak_sushi_20_percent/test/pizza/138961.jpg'),\n",
              " PosixPath('data/pizza_steak_sushi_20_percent/test/pizza/998005.jpg'),\n",
              " PosixPath('data/pizza_steak_sushi_20_percent/test/pizza/44810.jpg'),\n",
              " PosixPath('data/pizza_steak_sushi_20_percent/test/pizza/2250611.jpg'),\n",
              " PosixPath('data/pizza_steak_sushi_20_percent/test/pizza/2901001.jpg'),\n",
              " PosixPath('data/pizza_steak_sushi_20_percent/test/pizza/1001116.jpg'),\n",
              " PosixPath('data/pizza_steak_sushi_20_percent/test/pizza/296426.jpg'),\n",
              " PosixPath('data/pizza_steak_sushi_20_percent/test/pizza/796922.jpg'),\n",
              " PosixPath('data/pizza_steak_sushi_20_percent/test/sushi/715227.jpg'),\n",
              " PosixPath('data/pizza_steak_sushi_20_percent/test/sushi/2743100.jpg'),\n",
              " PosixPath('data/pizza_steak_sushi_20_percent/test/sushi/3401466.jpg'),\n",
              " PosixPath('data/pizza_steak_sushi_20_percent/test/sushi/1600999.jpg'),\n",
              " PosixPath('data/pizza_steak_sushi_20_percent/test/sushi/167716.jpg'),\n",
              " PosixPath('data/pizza_steak_sushi_20_percent/test/sushi/1245545.jpg'),\n",
              " PosixPath('data/pizza_steak_sushi_20_percent/test/sushi/592799.jpg'),\n",
              " PosixPath('data/pizza_steak_sushi_20_percent/test/sushi/2903621.jpg'),\n",
              " PosixPath('data/pizza_steak_sushi_20_percent/test/sushi/1383396.jpg'),\n",
              " PosixPath('data/pizza_steak_sushi_20_percent/test/sushi/3834718.jpg'),\n",
              " PosixPath('data/pizza_steak_sushi_20_percent/test/sushi/472912.jpg'),\n",
              " PosixPath('data/pizza_steak_sushi_20_percent/test/sushi/2416569.jpg'),\n",
              " PosixPath('data/pizza_steak_sushi_20_percent/test/sushi/705150.jpg'),\n",
              " PosixPath('data/pizza_steak_sushi_20_percent/test/sushi/2948087.jpg'),\n",
              " PosixPath('data/pizza_steak_sushi_20_percent/test/sushi/3494950.jpg'),\n",
              " PosixPath('data/pizza_steak_sushi_20_percent/test/sushi/1346344.jpg'),\n",
              " PosixPath('data/pizza_steak_sushi_20_percent/test/sushi/2012780.jpg'),\n",
              " PosixPath('data/pizza_steak_sushi_20_percent/test/sushi/2274102.jpg'),\n",
              " PosixPath('data/pizza_steak_sushi_20_percent/test/sushi/2903125.jpg'),\n",
              " PosixPath('data/pizza_steak_sushi_20_percent/test/sushi/1203702.jpg'),\n",
              " PosixPath('data/pizza_steak_sushi_20_percent/test/sushi/2352914.jpg'),\n",
              " PosixPath('data/pizza_steak_sushi_20_percent/test/sushi/1063878.jpg'),\n",
              " PosixPath('data/pizza_steak_sushi_20_percent/test/sushi/1994748.jpg'),\n",
              " PosixPath('data/pizza_steak_sushi_20_percent/test/sushi/780283.jpg'),\n",
              " PosixPath('data/pizza_steak_sushi_20_percent/test/sushi/804460.jpg'),\n",
              " PosixPath('data/pizza_steak_sushi_20_percent/test/sushi/3177743.jpg'),\n",
              " PosixPath('data/pizza_steak_sushi_20_percent/test/sushi/301603.jpg'),\n",
              " PosixPath('data/pizza_steak_sushi_20_percent/test/sushi/46797.jpg'),\n",
              " PosixPath('data/pizza_steak_sushi_20_percent/test/sushi/911808.jpg'),\n",
              " PosixPath('data/pizza_steak_sushi_20_percent/test/sushi/593071.jpg'),\n",
              " PosixPath('data/pizza_steak_sushi_20_percent/test/sushi/720302.jpg'),\n",
              " PosixPath('data/pizza_steak_sushi_20_percent/test/sushi/1683426.jpg'),\n",
              " PosixPath('data/pizza_steak_sushi_20_percent/test/sushi/57230.jpg'),\n",
              " PosixPath('data/pizza_steak_sushi_20_percent/test/sushi/3365273.jpg'),\n",
              " PosixPath('data/pizza_steak_sushi_20_percent/test/sushi/2394442.jpg'),\n",
              " PosixPath('data/pizza_steak_sushi_20_percent/test/sushi/3227791.jpg'),\n",
              " PosixPath('data/pizza_steak_sushi_20_percent/test/sushi/2819945.jpg'),\n",
              " PosixPath('data/pizza_steak_sushi_20_percent/test/sushi/511818.jpg'),\n",
              " PosixPath('data/pizza_steak_sushi_20_percent/test/sushi/1844723.jpg'),\n",
              " PosixPath('data/pizza_steak_sushi_20_percent/test/sushi/128616.jpg'),\n",
              " PosixPath('data/pizza_steak_sushi_20_percent/test/sushi/124279.jpg'),\n",
              " PosixPath('data/pizza_steak_sushi_20_percent/test/sushi/1944743.jpg'),\n",
              " PosixPath('data/pizza_steak_sushi_20_percent/test/sushi/3886015.jpg'),\n",
              " PosixPath('data/pizza_steak_sushi_20_percent/test/sushi/1404154.jpg'),\n",
              " PosixPath('data/pizza_steak_sushi_20_percent/test/sushi/389730.jpg'),\n",
              " PosixPath('data/pizza_steak_sushi_20_percent/test/sushi/2378406.jpg')]"
            ]
          },
          "metadata": {},
          "execution_count": 74
        }
      ]
    },
    {
      "cell_type": "code",
      "source": [],
      "metadata": {
        "id": "5lkDtbcIl_MS"
      },
      "execution_count": null,
      "outputs": []
    },
    {
      "cell_type": "code",
      "source": [],
      "metadata": {
        "id": "X17fxT9el_Ib"
      },
      "execution_count": null,
      "outputs": []
    },
    {
      "cell_type": "code",
      "source": [],
      "metadata": {
        "id": "r9Mn-6q1fVsw"
      },
      "execution_count": null,
      "outputs": []
    }
  ]
}